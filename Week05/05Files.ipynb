{
 "cells": [
  {
   "cell_type": "markdown",
   "metadata": {},
   "source": [
    "### Exercises for regex - Recap\n",
    "- regex that finds all words containing only vowels  \\b[aeiouAEIOU]+\\b\n",
    "- all strings consisting of the letters of \"lorem\"  \\b[LOREMlorem]+\\b\n",
    "- all strings consisting of letters of given word --> input()"
   ]
  },
  {
   "cell_type": "code",
   "execution_count": 4,
   "metadata": {},
   "outputs": [
    {
     "name": "stdout",
     "output_type": "stream",
     "text": [
      "['lorem', 'lorem', 'merol', 'moerl', 'orelm', 'lorem']\n"
     ]
    }
   ],
   "source": [
    "#all strings consisting of letters of a given word\n",
    "import re\n",
    "\n",
    "text = \"\"\"Lorem ipsum dolor sit amet, consectetur adipiscing elit. Donec cursus diam nec oai dui tincidunt mattis. \n",
    "In id ultricies est. Donec eu bibendum diam. Donec convallis purus non aou congue interdum. Suspendisse potenti. \n",
    "Maecenas euismod ui lorem eu tincidunt dictum. Suspendisse et porta magna. Suspendisse potenti. Sed a vehicula leo. \n",
    "Sed ut velit fringilla, efficitur lacus nec, feugiat dui. Quisque sed urna porta, dignissim ligula  ouoia vitae, \n",
    "aliquam metus. Pellentesque sit amet tempus mi. Sed sit amet ultrices metus. Aenean iaculis, metus at malesuada \n",
    "volutpat, mi erat vehicula augue, vitae sagittis dui libero nec turpis.Integer euismod diam dui, non egestas \n",
    "libero posuere vitae. Vestibulum rutrum metus arcu, a pharetra lectus gravida vel. Integer pulvinar tincidunt \n",
    "quam ut vulputate. Etiam accumsan vestibulum mi eu auctor. Sed eu semper nibh. Donec fermentum egestas lectus, \n",
    "vel commodo lectus eleifend non. lorem merol moerl orelm moreloe Etiam nec enim pellentesque, aliquam lorem quis, vestibulum metus. Aenean sit \n",
    "amet ligula vel augue mattis finibus. Fusce accumsan erat et velit gravida, nec sollicitudin sem ornare. Nam et \n",
    "accumsan ligula, non ullamcorper sem. Fusce magna nulla, placerat eget semper quis, mattis eu mauris. Nam eget \n",
    "dolor porttitor, malesuada tellus vel, convallis nibh. Nullam justo lectus, malesuada eget semper et, malesuada a nunc. Vestibulum ante ipsum primis in faucibus orci luctus et ultrices posuere cubilia curae; Vivamus luctus fermentum suscipit. Mauris sit amet dictum ex.\n",
    "d, varius massa. Vestibulum vel quam nulla. Integer pellentesque iaculis lectus id varius. Donec imperdiet ac vel\"\"\"\n",
    "\n",
    "letters = input()\n",
    "list = re.findall(r\"\\b[\" + letters + r\"]{\" + str(len(letters)) + r\"}\\b\",text)\n",
    "print(list)"
   ]
  },
  {
   "cell_type": "markdown",
   "metadata": {},
   "source": [
    "# Lesson week 5 - Files\n",
    "- files and folders\n",
    "- creating\n",
    "- reading and writing files\n",
    "- (de)compressing\n",
    "- reading csv-files\n",
    "- ...\n",
    "\n",
    "## email recap\n",
    "validate an emailaddress\n",
    "Write a function called validate_email()\n",
    "--> takes in email as input and returns a boolean indicating if valid or not\n",
    "- email address must contain @\n",
    "- part before @ --> at least 1 char and only letters, numbers, dots, hyphens and underscores\n",
    "- part after @ --> at least 2 chars and only letters, dots and hyphens\n",
    "- cannot end with a dot.\n"
   ]
  },
  {
   "cell_type": "code",
   "execution_count": 81,
   "metadata": {},
   "outputs": [
    {
     "name": "stdout",
     "output_type": "stream",
     "text": [
      "True\n",
      "False\n",
      "False\n",
      "False\n",
      "True\n"
     ]
    }
   ],
   "source": [
    "import re\n",
    "\n",
    "def validate_email(email):\n",
    "    if \"@\" not in email:\n",
    "        return False\n",
    "    \n",
    "    parts = email.split(\"@\") #Anthony@gmail.com\n",
    "    #[Anthony, gmail.com]\n",
    "\n",
    "    if len(parts) != 2:\n",
    "        return False\n",
    "\n",
    "    regex = r\"^[A-z0-9\\.\\-_]+$\"\n",
    "    if re.match(regex, parts[0]) is None:\n",
    "        return False\n",
    "\n",
    "    #2 chars min, letters, dots, hyphens \n",
    "    regex = r\"[A-z\\.\\-]{2,}\"\n",
    "    if re.match(regex, parts[1]) is None:\n",
    "        return False\n",
    "\n",
    "    if email[-1] == \".\":\n",
    "        return False\n",
    "    \n",
    "    return True\n",
    "\n",
    "print(validate_email(\"anthony.coppens@thomasmore.be\"))\n",
    "print(validate_email(\"anthony.coppens@thomasmore.be.\"))\n",
    "print(validate_email(\"anthony.coppens@thomas@more.be\"))\n",
    "print(validate_email(\"anthony coppens@thomasmore.be\"))\n",
    "print(validate_email(\"anthony.123@thomasmore.be\"))\n"
   ]
  },
  {
   "cell_type": "markdown",
   "metadata": {},
   "source": [
    "# Files and folders: os and pathlib"
   ]
  },
  {
   "cell_type": "code",
   "execution_count": 33,
   "metadata": {},
   "outputs": [
    {
     "name": "stdout",
     "output_type": "stream",
     "text": [
      "c:\\Users\\antho\\OneDrive\\Documenten\\Anthony-TM\\Scripting\\Scripting-Students-24-sem1\\Week05\n",
      "<class 'str'>\n",
      "c:\\Users\\antho\\OneDrive\\Documenten\\Anthony-TM\\Scripting\\Scripting-Students-24-sem1\\Week05\n",
      "<class 'pathlib.WindowsPath'>\n",
      "\n",
      "Filename:  calc.exe\n",
      "Name:  calc\n",
      "Extension:  .exe\n",
      "Parent directory:  C:\\Windows\\System32\n",
      "True\n",
      "True\n",
      "C:\\Users\\antho\n",
      "C:\\Users\\antho\\test\n",
      "C:\\Users\\antho/test\n",
      "C:\\Users\\antho\\test\n",
      "c:\\Users\\antho\\OneDrive\\Documenten\\Anthony-TM\\Scripting\\Scripting-Students-24-sem1\\Week05\\e-mail.txt\n",
      "c:\\Users\\antho\\OneDrive\\Documenten\\Anthony-TM\\Scripting\\Scripting-Students-24-sem1\\Week05\\e-mail.txt\n"
     ]
    }
   ],
   "source": [
    "import os\n",
    "import pathlib\n",
    "\n",
    "print(os.getcwd()) #returns a string of current working directory\n",
    "print(type(os.getcwd())) #type string\n",
    "print(pathlib.Path.cwd()) #returns object of current working directory\n",
    "print(type(pathlib.Path.cwd())) #type path object\n",
    "\n",
    "print()\n",
    "\n",
    "calc = pathlib.Path(r\"C:\\Windows\\System32\\calc.exe\")\n",
    "#calculator on pc\n",
    "print(\"Filename: \", calc.name) #final component of path\n",
    "print(\"Name: \", calc.stem) #final component -last suffix\n",
    "print(\"Extension: \", calc.suffix) #final component extension\n",
    "print(\"Parent directory: \", calc.parent) #logical parent of Path -> everything until last comp\n",
    "print(calc.is_file())\n",
    "print(calc.exists())\n",
    "\n",
    "print(pathlib.Path.home())\n",
    "#working with strings\n",
    "print(str(pathlib.Path.home()) + \"\\\\\" + \"test\") #windows\n",
    "print(str(pathlib.Path.home()) + \"/\" + \"test\") #macos/linux\n",
    "\n",
    "#working with paths\n",
    "print(pathlib.Path.home()/\"test\")\n",
    "\n",
    "path_to_email_txt = os.getcwd() + r\"\\e-mail.txt\"\n",
    "print(path_to_email_txt) #string + new part of string\n",
    "\n",
    "#working with different parts in path --> use a /\n",
    "path_to_email_txt = pathlib.Path.cwd()/\"e-mail.txt\"\n",
    "print(path_to_email_txt) #object / fileyouwanttoaccess"
   ]
  },
  {
   "cell_type": "markdown",
   "metadata": {},
   "source": [
    "### Walk in directory"
   ]
  },
  {
   "cell_type": "code",
   "execution_count": 55,
   "metadata": {},
   "outputs": [
    {
     "name": "stdout",
     "output_type": "stream",
     "text": [
      "The current folder is C:\\Users\\antho\\OneDrive\\Documenten\\Anthony-TM\\Scripting\\Scripting-Students-24-sem1\\Week05\n",
      "SUBFOLDER OFC:\\Users\\antho\\OneDrive\\Documenten\\Anthony-TM\\Scripting\\Scripting-Students-24-sem1\\Week05: subfolder1\n",
      "FILE INSIDE C:\\Users\\antho\\OneDrive\\Documenten\\Anthony-TM\\Scripting\\Scripting-Students-24-sem1\\Week05: 05Files.ipynb\n",
      "FILE INSIDE C:\\Users\\antho\\OneDrive\\Documenten\\Anthony-TM\\Scripting\\Scripting-Students-24-sem1\\Week05: e-mail.txt\n",
      "------------\n",
      "The current folder is C:\\Users\\antho\\OneDrive\\Documenten\\Anthony-TM\\Scripting\\Scripting-Students-24-sem1\\Week05\\subfolder1\n",
      "SUBFOLDER OFC:\\Users\\antho\\OneDrive\\Documenten\\Anthony-TM\\Scripting\\Scripting-Students-24-sem1\\Week05\\subfolder1: Nieuwe map\n",
      "SUBFOLDER OFC:\\Users\\antho\\OneDrive\\Documenten\\Anthony-TM\\Scripting\\Scripting-Students-24-sem1\\Week05\\subfolder1: Nieuwe map (2)\n",
      "------------\n",
      "The current folder is C:\\Users\\antho\\OneDrive\\Documenten\\Anthony-TM\\Scripting\\Scripting-Students-24-sem1\\Week05\\subfolder1\\Nieuwe map\n",
      "------------\n",
      "The current folder is C:\\Users\\antho\\OneDrive\\Documenten\\Anthony-TM\\Scripting\\Scripting-Students-24-sem1\\Week05\\subfolder1\\Nieuwe map (2)\n",
      "------------\n"
     ]
    }
   ],
   "source": [
    "import os\n",
    "import pathlib as Path\n",
    "\n",
    "path_ = r\"C:\\Users\\antho\\OneDrive\\Documenten\\Anthony-TM\\Scripting\\Scripting-Students-24-sem1\\Week05\" #direct link to path of this project\n",
    "#os.chdir(Path.home())\n",
    "\n",
    "for folderName, subfolders, filenames in os.walk(path_):\n",
    "    print(\"The current folder is \" + folderName)\n",
    "\n",
    "    for subfolder in subfolders:\n",
    "        print(\"SUBFOLDER OF\" + folderName + \": \" + subfolder)\n",
    "    \n",
    "    for fileName in filenames:\n",
    "        print(\"FILE INSIDE \" + folderName + \": \" + fileName)\n",
    "    print(\"------------\")\n"
   ]
  },
  {
   "cell_type": "code",
   "execution_count": 60,
   "metadata": {},
   "outputs": [
    {
     "name": "stdout",
     "output_type": "stream",
     "text": [
      "C:\\Users\\antho\\OneDrive\\Documenten\\Anthony-TM\\Scripting\\Scripting-Students-24-sem1\\Week05\\e-mail.txt\n",
      "C:\\Users\\antho\\OneDrive\\Documenten\\Anthony-TM\\Scripting\\Scripting-Students-24-sem1\\Week05\\TestCase2.txt\n",
      "\n",
      "C:\\Users\\antho\\OneDrive\\Documenten\\Anthony-TM\\Scripting\\Scripting-Students-24-sem1\\Week05\\05Files.ipynb\n",
      "C:\\Users\\antho\\OneDrive\\Documenten\\Anthony-TM\\Scripting\\Scripting-Students-24-sem1\\Week05\\subfolder1\n",
      "C:\\Users\\antho\\OneDrive\\Documenten\\Anthony-TM\\Scripting\\Scripting-Students-24-sem1\\Week05\\TestCase2.txt\n"
     ]
    }
   ],
   "source": [
    "#print and search for a file in certain path\n",
    "from pathlib import Path\n",
    "path_string = r\"C:\\Users\\antho\\OneDrive\\Documenten\\Anthony-TM\\Scripting\\Scripting-Students-24-sem1\\Week05\"\n",
    "path_object = Path(path_string)\n",
    "\n",
    "for file in path_object.glob(\"*.txt\"):\n",
    "    print(file)\n",
    "    \n",
    "print()\n",
    "for file in path_object.glob(\"*[0-9]*\"):\n",
    "    print(file)"
   ]
  },
  {
   "cell_type": "markdown",
   "metadata": {},
   "source": [
    "## Write to a file"
   ]
  },
  {
   "cell_type": "code",
   "execution_count": 78,
   "metadata": {},
   "outputs": [
    {
     "name": "stdout",
     "output_type": "stream",
     "text": [
      "C:\\Users\\antho\\OneDrive\\Documenten\\Anthony-TM\\Scripting\\Scripting-Students-24-sem1\\Week05\n",
      "C:\\Users\\antho\\OneDrive\\Documenten\\Anthony-TM\\Scripting\\Scripting-Students-24-sem1\\Week05\n"
     ]
    }
   ],
   "source": [
    "import os\n",
    "print(os.getcwd())\n",
    "os.chdir(r\"C:\\Users\\antho\\OneDrive\\Documenten\\Anthony-TM\\Scripting\\Scripting-Students-24-sem1\\Week05\")\n",
    "print(os.getcwd())\n",
    "\n",
    "#creating and writing --> if the file doesn't exist, create and write, otherwise we overwrite\n",
    "file = open(\"test.txt\",\"w\") #w indicates writing\n",
    "file.write(\"test\")\n",
    "file.write(\"\\n\")\n",
    "file.write(\"hello\")\n",
    "file.close()\n",
    "\n",
    "file = open(\"test.txt\", \"a\")\n",
    "file.write(\"\\nultimate test\")\n",
    "file.close()"
   ]
  },
  {
   "cell_type": "markdown",
   "metadata": {},
   "source": [
    "## Reading files"
   ]
  },
  {
   "cell_type": "code",
   "execution_count": 80,
   "metadata": {},
   "outputs": [
    {
     "name": "stdout",
     "output_type": "stream",
     "text": [
      "test\n",
      "hello\n",
      "ultimate test\n",
      "\n",
      "test\n",
      "hello\n",
      "ultimate test\n"
     ]
    }
   ],
   "source": [
    "file = open(\"test.txt\", \"r\")\n",
    "#way 1\n",
    "print(file.read())\n",
    "file.close()\n",
    "\n",
    "print()\n",
    "#way 2\n",
    "with open(\"test.txt\", \"r\") as file:\n",
    "    print(file.read())\n",
    "\n",
    "#encodingproblems? trouble reading files?\n",
    "file = open(\"test.txt\", \"r\", encoding = \"utf-7\")\n",
    "file.close()\n",
    "\n",
    "#8-bits: US-ASCII or Latin-1\n",
    "#16-bits: UTF-16 --> more bits, means the char set is greater and able to read it.\n"
   ]
  },
  {
   "cell_type": "markdown",
   "metadata": {},
   "source": [
    "### Reading emails from a file\n",
    "check emails with the validate_email() function"
   ]
  },
  {
   "cell_type": "code",
   "execution_count": 82,
   "metadata": {},
   "outputs": [
    {
     "name": "stdout",
     "output_type": "stream",
     "text": [
      "example@example.com True --> True\n",
      "\n",
      "example@sub.domain.com True --> True\n",
      "\n",
      "example-123@sub.domain.com True --> True\n",
      "\n",
      "example123@sub.domain.com True --> True\n",
      "\n",
      "example_123@sub.domain.com True --> True\n",
      "\n",
      "example@sub-domain.com True --> True\n",
      "\n",
      "example@sub.domain True --> False\n",
      "\n",
      "example@sub. False --> False\n",
      "\n",
      "example@sub..com True --> False\n",
      "\n",
      "example@sub.domain.c True --> False\n",
      "\n",
      "example@sub-.domain.com True --> False\n",
      "\n",
      "example@sub_.domain.com True --> False\n",
      "\n",
      "example@sub.domain-.com True --> False\n",
      "\n",
      "example@sub.domain_.com True --> False\n",
      "\n"
     ]
    }
   ],
   "source": [
    "#ref to exercise at start\n",
    "with open(\"e-mail.txt\", \"r\") as file:\n",
    "    for line in file.readlines():\n",
    "        parts = line.split(\";\")\n",
    "        print(parts[0], validate_email(parts[0]), \"-->\", parts[1])"
   ]
  },
  {
   "cell_type": "markdown",
   "metadata": {},
   "source": [
    "## Organizing files\n",
    "Creating a dir, deleting files, copying, moving\n",
    "work with Send2Trash for safe deletes\n",
    "--> https://pypi.org/project/Send2Trash/"
   ]
  },
  {
   "cell_type": "code",
   "execution_count": 83,
   "metadata": {},
   "outputs": [
    {
     "name": "stdout",
     "output_type": "stream",
     "text": [
      "Collecting Send2Trash\n",
      "  Downloading Send2Trash-1.8.3-py3-none-any.whl.metadata (4.0 kB)\n",
      "Downloading Send2Trash-1.8.3-py3-none-any.whl (18 kB)\n",
      "Installing collected packages: Send2Trash\n"
     ]
    },
    {
     "name": "stderr",
     "output_type": "stream",
     "text": [
      "  WARNING: Failed to write executable - trying to use .deleteme logic\n",
      "ERROR: Could not install packages due to an OSError: [WinError 2] Het systeem kan het opgegeven bestand niet vinden: 'C:\\\\Python312\\\\Scripts\\\\send2trash.exe' -> 'C:\\\\Python312\\\\Scripts\\\\send2trash.exe.deleteme'\n",
      "\n",
      "\n",
      "[notice] A new release of pip is available: 24.0 -> 24.2\n",
      "[notice] To update, run: python.exe -m pip install --upgrade pip\n"
     ]
    }
   ],
   "source": [
    "! pip install Send2Trash"
   ]
  },
  {
   "cell_type": "code",
   "execution_count": 89,
   "metadata": {},
   "outputs": [],
   "source": [
    "import os, shutil #shutil = moving and copying items\n",
    "#os.mkdir(\"secondFolder\") --> after running 1 time, cannot run multiple times, \n",
    "# because file already exists\n",
    "shutil.copy(\"test.txt\", \"folder\") #copy file to folder dir\n",
    "shutil.move(\"folder/test.txt\", \"folder/bacon_new.txt\") #move contents to new file name\n",
    "#shutil.rmtree(\"folder\") --> unsafe way of deleting content"
   ]
  },
  {
   "cell_type": "code",
   "execution_count": 91,
   "metadata": {},
   "outputs": [],
   "source": [
    "import send2trash\n",
    "file = open(\"testfile.txt\", \"w\")\n",
    "file.close()\n",
    "\n",
    "send2trash.send2trash(\"testfile.txt\")"
   ]
  },
  {
   "cell_type": "markdown",
   "metadata": {},
   "source": [
    "## working with zip-files\n",
    "compressing files into a zip-file and extracting files form a zip-file\n",
    "note: really big files --> wetransfer"
   ]
  },
  {
   "cell_type": "code",
   "execution_count": 94,
   "metadata": {},
   "outputs": [],
   "source": [
    "import zipfile, os\n",
    "from pathlib import Path\n",
    "\n",
    "file = zipfile.ZipFile(\"zipfile.zip\", \"w\")\n",
    "file.write(\"e-mail.txt\")\n",
    "file.write(\"test.txt\")\n",
    "file.write(\"TestCase2.txt\")\n",
    "file.write(\"screenshot.png\")\n",
    "file.write(\"countries.csv\")\n",
    "file.close()\n",
    "\n",
    "file = zipfile.ZipFile(\"zipfile2.zip\",\"r\")\n",
    "file.extractall()\n",
    "file.close()"
   ]
  }
 ],
 "metadata": {
  "kernelspec": {
   "display_name": "Python 3",
   "language": "python",
   "name": "python3"
  },
  "language_info": {
   "codemirror_mode": {
    "name": "ipython",
    "version": 3
   },
   "file_extension": ".py",
   "mimetype": "text/x-python",
   "name": "python",
   "nbconvert_exporter": "python",
   "pygments_lexer": "ipython3",
   "version": "3.12.4"
  }
 },
 "nbformat": 4,
 "nbformat_minor": 2
}
