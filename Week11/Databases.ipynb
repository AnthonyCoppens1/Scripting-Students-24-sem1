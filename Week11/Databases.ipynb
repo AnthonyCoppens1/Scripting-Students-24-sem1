{
 "cells": [
  {
   "cell_type": "markdown",
   "metadata": {},
   "source": [
    "# Databases - week11\n",
    "install packages: mysql-connector-python"
   ]
  },
  {
   "cell_type": "code",
   "execution_count": null,
   "metadata": {},
   "outputs": [],
   "source": [
    "! pip install mysql-connector-python"
   ]
  },
  {
   "cell_type": "code",
   "execution_count": 3,
   "metadata": {},
   "outputs": [
    {
     "name": "stdout",
     "output_type": "stream",
     "text": [
      "movies_db\n"
     ]
    }
   ],
   "source": [
    "#regular syntax of connecting to a database\n",
    "import mysql.connector\n",
    "\n",
    "dbconnection = mysql.connector.connect(\n",
    "    host = \"localhost\",\n",
    "    user = \"root\",\n",
    "    password = \"\",\n",
    "    database = \"movies_db\"\n",
    ")\n",
    "\n",
    "cursor = dbconnection.cursor()\n",
    "print(dbconnection.database)\n",
    "#do stuff\n",
    "cursor.close()\n",
    "dbconnection.close()"
   ]
  },
  {
   "cell_type": "markdown",
   "metadata": {},
   "source": [
    "## CREATE OPERATION"
   ]
  },
  {
   "cell_type": "code",
   "execution_count": 4,
   "metadata": {},
   "outputs": [],
   "source": [
    "#CRUD CREATE READ UPDATE DELETE\n",
    "#creating extra data --> create operation\n",
    "import mysql.connector\n",
    "\n",
    "dbconnection = mysql.connector.connect(\n",
    "    host = \"localhost\",\n",
    "    user = \"root\",\n",
    "    password = \"\",\n",
    "    database = \"movies_db\"\n",
    ")\n",
    "\n",
    "cursor = dbconnection.cursor()\n",
    "query = \"INSERT INTO actors(name) VALUES('Kevin Hart');\"\n",
    "cursor.execute(query)\n",
    "dbconnection.commit()\n",
    "cursor.close()\n",
    "dbconnection.close()\n"
   ]
  },
  {
   "cell_type": "code",
   "execution_count": 5,
   "metadata": {},
   "outputs": [],
   "source": [
    "import mysql.connector\n",
    "\n",
    "dbconnection = mysql.connector.connect(\n",
    "    host = \"localhost\",\n",
    "    user = \"root\",\n",
    "    password = \"\",\n",
    "    database = \"movies_db\"\n",
    ")\n",
    "\n",
    "cursor = dbconnection.cursor()\n",
    "query = \"INSERT INTO actors(name) VALUES(%s);\"\n",
    "data = [[\"Leondardo Dicaprio\"], [\"Samuel L Jackson\"], [\"Angelina Jolie\"], \n",
    "        [\"Benedict Cumberbatch\"], [\"Margot Robbie\"]]\n",
    "cursor.executemany(query, data)\n",
    "\n",
    "#also possible if a category in db has multiple values\n",
    "query = \"INSERT INTO movies(title, synopsis) VALUES(%s, %s);\"\n",
    "data = (\"Shreck\", \"An ogre that falls in love with a princess, travels through the country with a talking donkey\")\n",
    "\n",
    "cursor.execute(query, data)\n",
    "\n",
    "movies = [(\"Jurassic Park\", \"Scientists create a theme park with cloned dinosaurs, which goes wrong\"),\n",
    "          (\"Ratatouille\", \"A rat with cooking skills helping a crapping chef become the best in Paris\"),\n",
    "          (\"Titanic\", \"Ship crashing into iceberg, everyone dies but Rose\")]\n",
    "\n",
    "#insert each movie\n",
    "for movie in movies:\n",
    "    cursor.execute(query, movie)\n",
    "\n",
    "dbconnection.commit()\n",
    "cursor.close()\n",
    "dbconnection.close()\n"
   ]
  },
  {
   "cell_type": "markdown",
   "metadata": {},
   "source": [
    "## READ OPERATION"
   ]
  },
  {
   "cell_type": "code",
   "execution_count": 6,
   "metadata": {},
   "outputs": [
    {
     "name": "stdout",
     "output_type": "stream",
     "text": [
      "[(1, 'Michelle Yeoh'), (2, 'Stephan James'), (3, 'Jamie Lee Curtis'), (4, 'Tom Cruise'), (5, 'Kevin Hart'), (6, 'Leondardo Dicaprio'), (7, 'Samuel L Jackson'), (8, 'Angelina Jolie'), (9, 'Benedict Cumberbatch'), (10, 'Margot Robbie')]\n",
      "(1, 'Michelle Yeoh')\n",
      "(2, 'Stephan James')\n",
      "(3, 'Jamie Lee Curtis')\n",
      "(4, 'Tom Cruise')\n",
      "(5, 'Kevin Hart')\n",
      "(6, 'Leondardo Dicaprio')\n",
      "(7, 'Samuel L Jackson')\n",
      "(8, 'Angelina Jolie')\n",
      "(9, 'Benedict Cumberbatch')\n",
      "(10, 'Margot Robbie')\n",
      "Michelle Yeoh\n",
      "Stephan James\n",
      "Jamie Lee Curtis\n",
      "Tom Cruise\n",
      "Kevin Hart\n",
      "Leondardo Dicaprio\n",
      "Samuel L Jackson\n",
      "Angelina Jolie\n",
      "Benedict Cumberbatch\n",
      "Margot Robbie\n",
      "1\n",
      "2\n",
      "3\n",
      "4\n",
      "5\n",
      "6\n",
      "7\n",
      "8\n",
      "9\n",
      "10\n"
     ]
    }
   ],
   "source": [
    "import mysql.connector\n",
    "\n",
    "dbconnection = mysql.connector.connect(\n",
    "    host = \"localhost\",\n",
    "    user = \"root\",\n",
    "    password = \"\",\n",
    "    database = \"movies_db\"\n",
    ")\n",
    "\n",
    "cursor = dbconnection.cursor()\n",
    "query = \"SELECT * FROM actors;\"\n",
    "cursor.execute(query) #cursor.execute(\"SELECT * FROM actors;\")\n",
    "data = cursor.fetchall()\n",
    "print(data) #all of it no format\n",
    "\n",
    "for actor in data:\n",
    "    print(actor) #print entire record\n",
    "\n",
    "for actor in data:\n",
    "    print(actor[1]) # 0 = ID, 1 = name\n",
    "\n",
    "for id, name in data:\n",
    "    print(id) #print(id, name)\n",
    "\n",
    "cursor.close()\n",
    "dbconnection.close()"
   ]
  },
  {
   "cell_type": "code",
   "execution_count": 11,
   "metadata": {},
   "outputs": [
    {
     "name": "stdout",
     "output_type": "stream",
     "text": [
      "('Everything Everywhere All at Once', 'Michelle Yeoh')\n",
      "('Everything Everywhere All at Once', 'Stephan James')\n",
      "('Everything Everywhere All at Once', 'Jamie Lee Curtis')\n",
      "('Top Gun: Maverick', 'Tom Cruise')\n",
      "Michelle Yeoh plays in Everything Everywhere All at Once\n",
      "Stephan James plays in Everything Everywhere All at Once\n",
      "Jamie Lee Curtis plays in Everything Everywhere All at Once\n",
      "Tom Cruise plays in Top Gun: Maverick\n"
     ]
    }
   ],
   "source": [
    "import mysql.connector\n",
    "\n",
    "dbconnection = mysql.connector.connect(\n",
    "    host = \"localhost\",\n",
    "    user = \"root\",\n",
    "    password = \"\",\n",
    "    database = \"movies_db\"\n",
    ")\n",
    "\n",
    "cursor = dbconnection.cursor()\n",
    "query = \"\"\"select movies.title, actors.name from movies\n",
    "                inner join movie_actor on movies.id = movie_actor.movie_id\n",
    "                inner join actors on actors.id = movie_actor.actor_id;\"\"\"\n",
    "#can also do left outer join --> not all movies have actor linked\n",
    "cursor.execute(query)\n",
    "data = cursor.fetchall()\n",
    "\n",
    "for row in data:\n",
    "    print(row)\n",
    "\n",
    "for movie, actor in data:\n",
    "    print(actor, \"plays in\", movie)\n",
    "\n",
    "cursor.close()\n",
    "dbconnection.close()"
   ]
  },
  {
   "cell_type": "markdown",
   "metadata": {},
   "source": [
    "## UPDATE OPERATION"
   ]
  },
  {
   "cell_type": "code",
   "execution_count": 13,
   "metadata": {},
   "outputs": [],
   "source": [
    "#let's add home alone without descr. --> update later with descr\n",
    "import mysql.connector\n",
    "dbconnection = mysql.connector.connect(\n",
    "    host = \"localhost\",\n",
    "    user = \"root\",\n",
    "    password = \"\",\n",
    "    database = \"movies_db\"\n",
    ")\n",
    "\n",
    "cursor = dbconnection.cursor()\n",
    "\n",
    "#cursor.execute(\"INSERT INTO movies(title) VALUES('Home Alone')\")\n",
    "query = \"\"\"UPDATE movies SET synopsis = \n",
    "            'A kid has to defend his home from 2 burglars after he got left home alone unknowingly'\n",
    "            WHERE title like 'Home Alone'\"\"\"\n",
    "cursor.execute(query)\n",
    "\n",
    "dbconnection.commit()\n",
    "cursor.close()\n",
    "dbconnection.close()"
   ]
  },
  {
   "cell_type": "code",
   "execution_count": 18,
   "metadata": {},
   "outputs": [],
   "source": [
    "import requests\n",
    "from bs4 import BeautifulSoup\n",
    "\n",
    "url = \"https://en.wikipedia.org/wiki/List_of_Academy_Award-winning_films\"\n",
    "response = requests.get(url)\n",
    "soup = BeautifulSoup(response.text)\n",
    "\n",
    "#import db\n",
    "import mysql.connector\n",
    "dbconnection = mysql.connector.connect(\n",
    "    host = \"localhost\",\n",
    "    user = \"root\",\n",
    "    password = \"\",\n",
    "    database = \"movies_db\"\n",
    ")\n",
    "\n",
    "cursor = dbconnection.cursor()\n",
    "table = soup.find(\"table\")\n",
    "rows = table.find_all(\"tr\")\n",
    "\n",
    "for row in rows:\n",
    "    td = row.find_all(\"td\")\n",
    "    if len(td) > 0:\n",
    "        title = td[0].get_text().strip().replace(\"'\", \"\")\n",
    "        year = td[1].get_text().strip()\n",
    "        awards = td[2].get_text().strip()\n",
    "        nom = td[3].get_text().strip()\n",
    "\n",
    "        #check if already in DB\n",
    "        query = \"SELECT * from movies where title like '\" + title + \"'\"\n",
    "        #print(query)\n",
    "        cursor.execute(query)\n",
    "        data = cursor.fetchall()\n",
    "\n",
    "        if len(data) == 0:\n",
    "            query = f\"INSERT into movies(title) values('{title}')\"\n",
    "            cursor.execute(query)\n",
    "            dbconnection.commit()\n",
    "\n",
    "            movie_id = cursor.lastrowid\n",
    "\n",
    "            query = \"\"\"INSERT into awards(movie_id, awardshow_id, year, awards, nominations)\n",
    "                        values(%s, %s, %s, %s, %s)\"\"\"\n",
    "            values = (movie_id, 1, year, awards, nom)\n",
    "            cursor.execute(query, values)\n",
    "            dbconnection.commit()\n",
    "\n",
    "cursor.close()\n",
    "dbconnection.close()\n"
   ]
  }
 ],
 "metadata": {
  "kernelspec": {
   "display_name": "Python 3",
   "language": "python",
   "name": "python3"
  },
  "language_info": {
   "codemirror_mode": {
    "name": "ipython",
    "version": 3
   },
   "file_extension": ".py",
   "mimetype": "text/x-python",
   "name": "python",
   "nbconvert_exporter": "python",
   "pygments_lexer": "ipython3",
   "version": "3.12.4"
  }
 },
 "nbformat": 4,
 "nbformat_minor": 2
}
