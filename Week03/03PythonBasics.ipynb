{
 "cells": [
  {
   "cell_type": "markdown",
   "metadata": {},
   "source": [
    "# Python basics 03:class\n",
    "working with packages --> numpy and pythonic code\n",
    "If you have problems running or installing packages (pip not recognized)\n",
    "https://www.dataquest.io/blog/install-pip-windows/\n",
    "\n",
    "--> get-pip.py file"
   ]
  },
  {
   "cell_type": "code",
   "execution_count": null,
   "metadata": {},
   "outputs": [],
   "source": [
    "! pip install numpy"
   ]
  },
  {
   "cell_type": "code",
   "execution_count": 10,
   "metadata": {},
   "outputs": [
    {
     "data": {
      "text/plain": [
       "<module 'numpy.version' from 'c:\\\\Python312\\\\Lib\\\\site-packages\\\\numpy\\\\version.py'>"
      ]
     },
     "execution_count": 10,
     "metadata": {},
     "output_type": "execute_result"
    }
   ],
   "source": [
    "import numpy\n",
    "numpy.version"
   ]
  },
  {
   "cell_type": "markdown",
   "metadata": {},
   "source": [
    "## Import Numpy"
   ]
  },
  {
   "cell_type": "code",
   "execution_count": 3,
   "metadata": {},
   "outputs": [],
   "source": [
    "import numpy\n",
    "import numpy as np\n",
    "from numpy import arange"
   ]
  },
  {
   "cell_type": "markdown",
   "metadata": {},
   "source": [
    "## Creating arrays\n",
    "array elements must have the same type"
   ]
  },
  {
   "cell_type": "code",
   "execution_count": 24,
   "metadata": {},
   "outputs": [
    {
     "name": "stdout",
     "output_type": "stream",
     "text": [
      "[1, 5, 8, 10, 3]\n",
      "[ 1  5  8 10  3]\n",
      "[1, 5, 8, 10, 3, 1, 5, 8, 10, 3]\n",
      "[ 2 10 16 20  6]\n",
      "[0 1 2 3 4 5 6 7 8 9]\n",
      "[0. 0. 0. 0. 0. 0. 0. 0. 0. 0.]\n",
      "[1. 1. 1. 1. 1. 1. 1. 1. 1. 1.]\n",
      "[5 5 5 5 5 5 5 5 5 5]\n",
      "[-1 -5  4  2  4 -1  2 -5  1 -4]\n",
      "[0.42893472 0.09036762 0.72372737 0.85599073 0.85699418 0.1080565\n",
      " 0.19826996 0.22561542 0.11575164 0.9773528 ]\n"
     ]
    }
   ],
   "source": [
    "import numpy as np\n",
    "list = [1,5,8,10,3]\n",
    "print(list)\n",
    "\n",
    "array = np.array(list)\n",
    "print(array)\n",
    "\n",
    "#list --> treated as a whole and is completely added twice if you multiply\n",
    "#array --> treats each element and multiplies each element separately.\n",
    "\n",
    "print(list * 2)\n",
    "print(array * 2)\n",
    "\n",
    "list.append(2)\n",
    "#array.append(2) --> array has fixed size after transformation\n",
    "\n",
    "#1D arrays\n",
    "print(np.arange(10)) #evenly spaced intervals with given key, without upperbound\n",
    "print(np.zeros(10)) #array of x amount of 0's\n",
    "print(np.ones(10)) #array of x amoutn of 1's\n",
    "\n",
    "print(np.full(10,5)) #array of given size filled with given number\n",
    "print(np.random.randint(-5,6,10)) #random array filled with random integers, given low bound, high bound and size\n",
    "\n",
    "print(np.random.random(10)) #random floats in array of size x"
   ]
  },
  {
   "cell_type": "markdown",
   "metadata": {},
   "source": [
    "### Reshaping & converting arrays"
   ]
  },
  {
   "cell_type": "code",
   "execution_count": 44,
   "metadata": {},
   "outputs": [
    {
     "name": "stdout",
     "output_type": "stream",
     "text": [
      "[-4  4  2 -1 -2 -4  2  5 -3  4]\n",
      "(10,)\n",
      "1\n",
      "int32\n",
      "[-4.  4.  2. -1. -2. -4.  2.  5. -3.  4.]\n",
      "['-4' '4' '2' '-1' '-2' '-4' '2' '5' '-3' '4']\n",
      "[[-4  4  2 -1 -2]\n",
      " [-4  2  5 -3  4]]\n",
      "2\n",
      "(2, 5)\n",
      "[[-4  4]\n",
      " [ 2 -1]\n",
      " [-2 -4]\n",
      " [ 2  5]\n",
      " [-3  4]]\n",
      "[[-4  4]\n",
      " [-1  2]\n",
      " [-4 -2]\n",
      " [ 2  5]\n",
      " [-3  4]]\n",
      "5\n"
     ]
    }
   ],
   "source": [
    "import numpy as np\n",
    "\n",
    "#change array again\n",
    "array = np.random.randint(-5,6,10)\n",
    "print(array)\n",
    "\n",
    "print(array.shape) #display size of array / elements of dimensions\n",
    "print(array.ndim) #returns number of dimensions\n",
    "\n",
    "print(array.dtype) #shows the datatype\n",
    "\n",
    "#i = integer / b = boolean / f = float / M = datetime / S = string\n",
    "#--> wording also works str int bool ...\n",
    "array_float = array.astype('f')\n",
    "print(array_float)\n",
    "\n",
    "array_string = array.astype(str)\n",
    "print(array_string)\n",
    "\n",
    "array_2D = np.reshape(array,(2,5))\n",
    "print(array_2D)\n",
    "print(array_2D.ndim) #2\n",
    "print(array_2D.shape) #(2,5)\n",
    "\n",
    "array_2D = np.reshape(array,(5,2))\n",
    "print(array_2D)\n",
    "#needs a perfect fit --> 10 elements cannot be split into (3,3)\n",
    "#valueError: cannot reshape array of size 10 into shape (3,3)\n",
    "\n",
    "array_2D = np.sort(array_2D)\n",
    "print(array_2D)\n",
    "\n",
    "print(np.max(array_2D))\n"
   ]
  },
  {
   "cell_type": "markdown",
   "metadata": {},
   "source": [
    "## Slicing arrays\n",
    "[start:end:step]\n",
    "- start: starting index\n",
    "- end: last number in line (1 beyond index)\n",
    "- step: stepsize"
   ]
  },
  {
   "cell_type": "code",
   "execution_count": 66,
   "metadata": {},
   "outputs": [
    {
     "name": "stdout",
     "output_type": "stream",
     "text": [
      "[6 2 8 9 3 1 4 7 0 5]\n",
      "[2 8 9 3]\n",
      "[2 8 9 3]\n",
      "[2 9]\n",
      "[6 2 8 9 3]\n",
      "[6 2 8 9 3]\n",
      "[6 2 8 9 3 1 4 7 0 5]\n",
      "[6 2 8 9 3 1 4 7 0 5]\n",
      "[5 0 7 4 1 3 9 8 2 6]\n",
      "[5 0 7 4 1 3 9 8 2 6]\n",
      "[]\n",
      "[6 8 3 4 0]\n",
      "[5 7 1 9 2]\n"
     ]
    }
   ],
   "source": [
    "import numpy as np\n",
    "array = np.array([6,2,8,9,3,1,4,7,0,5])\n",
    "print(array)\n",
    "\n",
    "print(array[1:5:1]) #[2 8 9 3]\n",
    "#default step is always 1\n",
    "print(array[1:5:]) #[2 8 9 3]\n",
    "print(array[1:5:2]) #[2 9]\n",
    "\n",
    "#default start is always 0\n",
    "print(array[0:5:1]) #[6 2 8 9 3]\n",
    "print(array[:5:1]) #[6 2 8 9 3]\n",
    "\n",
    "#default end is always the end of the array\n",
    "print(array[0::1]) #[6 2 8 9 3 1 4 7 0 5]\n",
    "print(array[0:10:1]) #[6 2 8 9 3 1 4 7 0 5]\n",
    "\n",
    "#reverse array\n",
    "print(array[::-1]) #[5 0 7 4 1 3 9 8 2 6]\n",
    "print(array[10::-1]) #[5 0 7 4 1 3 9 8 2 6]\n",
    "\n",
    "print(array[0:10:-1]) #doesn't work, because there's no (negative) indexes\n",
    "\n",
    "print(array[::2]) #[6 8 3 4 0]\n",
    "print(array[::-2]) #[5 7 1 9 2]"
   ]
  },
  {
   "cell_type": "markdown",
   "metadata": {},
   "source": [
    "## working with arrays"
   ]
  },
  {
   "cell_type": "code",
   "execution_count": 83,
   "metadata": {},
   "outputs": [
    {
     "name": "stdout",
     "output_type": "stream",
     "text": [
      "[0 1 2 3 4 5 6 7 8 9] [9 8 7 6 5 4 3 2 1 0]\n",
      "[9 9 9 9 9 9 9 9 9 9]\n",
      "[-9 -7 -5 -3 -1  1  3  5  7  9]\n",
      "[ 0  8 14 18 20 20 18 14  8  0]\n",
      "[1 1 3 3 5 5 7 7 9 9]\n",
      "(array([0, 1, 2, 3]),)\n",
      "[9 8 7 6 0 0 0 0 0 0]\n",
      "\n",
      "[[9 8 7 6 5]\n",
      " [4 3 2 1 0]]\n",
      "\n",
      "[13 11  9  7  5]\n",
      "[35 10]\n",
      "[[ 9 17 24 30 35]\n",
      " [ 4  7  9 10 10]]\n",
      "\n",
      "45\n",
      "45\n",
      "0\n",
      "9\n",
      "[0.         1.         1.41421356 1.73205081 2.         2.23606798\n",
      " 2.44948974 2.64575131 2.82842712 3.        ]\n",
      "3.0\n"
     ]
    }
   ],
   "source": [
    "import numpy as np\n",
    "\n",
    "a = np.arange(0,10) #[0 1 2 3 4 5 6 7 8 9]\n",
    "b = np.arange(9,-1,-1) #[9 8 7 6 5 4 3 2 1 0]\n",
    "print(a,b)\n",
    "\n",
    "print(a+b) #[9 9 9 9 9 9 9 9 9 9]\n",
    "print(a-b) #[-9 -7 -5 -3 -1  1  3  5  7  9]\n",
    "print(a*b) #[ 0  8 14 18 20 20 18 14  8  0]\n",
    "\n",
    "print(np.where(a % 2 == 0, a + 1, a)) #if condition --> where(condition,x,y) --> if condition true, return x, return y\n",
    "print(np.where(b>5)) #you get indexes back\n",
    "print(np.where(b>5, b, 0)) #if true return number else 0\n",
    "print()\n",
    "\n",
    "b = np.reshape(b,(2,5))\n",
    "print(b)\n",
    "print()\n",
    "\n",
    "print(b.sum(axis=0)) #count up columns\n",
    "print(b.sum(axis=1)) #count up rows\n",
    "print(b.cumsum(axis=1)) #sum of all elements in row --> sum at current point is printed\n",
    "\n",
    "print()\n",
    "print(a.sum()) #calculated sum regardless of size and dimensions\n",
    "print(b.sum())\n",
    "print(a.min())\n",
    "print(a.max())\n",
    "print(np.sqrt(a)) #square root of every number returned as an array\n",
    "print(np.sqrt(a.max())) #square root of highest number in array, returned as a float"
   ]
  },
  {
   "cell_type": "markdown",
   "metadata": {},
   "source": [
    "### Exercise: It's magic\n",
    "Read in a 1D array and a number of rows! Convert the array to 2D! Calculate the sum of each column and if all\n",
    "the sums are equal --> \"It's magic time and you are dealing with a magic table\" OR \"MAGIC TABLE\"\n",
    "\n",
    "<b>input</b><br>\n",
    "2 7 0 8 4 1 1 0 10 <br>\n",
    "3<br>\n",
    "<b>output</b><br>\n",
    "True\n",
    "<pre>\n",
    "2 7 0\n",
    "8 4 1\n",
    "1 0 10\n",
    "<i>11 11 11</i> --> MAGIC TABLE\n",
    "</pre>"
   ]
  },
  {
   "cell_type": "code",
   "execution_count": 89,
   "metadata": {},
   "outputs": [
    {
     "name": "stdout",
     "output_type": "stream",
     "text": [
      "[[ 2  7  0]\n",
      " [ 8  4  1]\n",
      " [ 1  0 10]]\n",
      "[11 11 11]\n",
      "MAGIC TABLE\n"
     ]
    }
   ],
   "source": [
    "import numpy as np\n",
    "s = input()\n",
    "array1D = np.array(s.split(\" \"))\n",
    "array1D = array1D.astype('i')\n",
    "\n",
    "rows = int(input())\n",
    "array1D = np.reshape(array1D,(rows,rows))\n",
    "print(array1D)\n",
    "\n",
    "sums = np.sum(array1D,axis=0) #0 is cols, 1 is rows\n",
    "print(sums)\n",
    "\n",
    "total = np.sum(sums)\n",
    "if total / rows == sums[0]:\n",
    "    print(\"MAGIC TABLE\")\n",
    "else:\n",
    "    print(\"NO MAGIC TABLE\")\n",
    "\n",
    "\n",
    "#another approach\n",
    "check = True\n",
    "for value in sums: #[11 11 11]\n",
    "    if value != sums[0]:\n",
    "        check = False\n",
    "        break\n",
    "\n",
    "if check is True:\n",
    "    print(\"MAGIC TABLE\")\n",
    "else:\n",
    "    print(\"NO MAGIC TABLE\")"
   ]
  }
 ],
 "metadata": {
  "kernelspec": {
   "display_name": "Python 3",
   "language": "python",
   "name": "python3"
  },
  "language_info": {
   "codemirror_mode": {
    "name": "ipython",
    "version": 3
   },
   "file_extension": ".py",
   "mimetype": "text/x-python",
   "name": "python",
   "nbconvert_exporter": "python",
   "pygments_lexer": "ipython3",
   "version": "3.12.4"
  }
 },
 "nbformat": 4,
 "nbformat_minor": 2
}
