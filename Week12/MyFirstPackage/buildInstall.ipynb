{
 "cells": [
  {
   "cell_type": "code",
   "execution_count": 1,
   "metadata": {},
   "outputs": [
    {
     "name": "stdout",
     "output_type": "stream",
     "text": [
      "Requirement already satisfied: setuptools in c:\\python312\\lib\\site-packages (75.6.0)\n"
     ]
    },
    {
     "name": "stderr",
     "output_type": "stream",
     "text": [
      "\n",
      "[notice] A new release of pip is available: 24.0 -> 24.3.1\n",
      "[notice] To update, run: python.exe -m pip install --upgrade pip\n"
     ]
    }
   ],
   "source": [
    "! pip install setuptools"
   ]
  },
  {
   "cell_type": "code",
   "execution_count": 2,
   "metadata": {},
   "outputs": [
    {
     "name": "stdout",
     "output_type": "stream",
     "text": [
      "Requirement already satisfied: wheel in c:\\python312\\lib\\site-packages (0.45.1)\n"
     ]
    },
    {
     "name": "stderr",
     "output_type": "stream",
     "text": [
      "\n",
      "[notice] A new release of pip is available: 24.0 -> 24.3.1\n",
      "[notice] To update, run: python.exe -m pip install --upgrade pip\n"
     ]
    }
   ],
   "source": [
    "! pip install wheel"
   ]
  },
  {
   "cell_type": "code",
   "execution_count": 3,
   "metadata": {},
   "outputs": [
    {
     "name": "stdout",
     "output_type": "stream",
     "text": [
      "Collecting twine\n",
      "  Using cached twine-6.0.1-py3-none-any.whl.metadata (3.7 kB)\n",
      "Requirement already satisfied: pkginfo>=1.8.1 in c:\\python312\\lib\\site-packages (from twine) (1.12.0)\n",
      "Collecting readme-renderer>=35.0 (from twine)\n",
      "  Using cached readme_renderer-44.0-py3-none-any.whl.metadata (2.8 kB)\n",
      "Requirement already satisfied: requests>=2.20 in c:\\python312\\lib\\site-packages (from twine) (2.32.3)\n",
      "Collecting requests-toolbelt!=0.9.0,>=0.8.0 (from twine)\n",
      "  Using cached requests_toolbelt-1.0.0-py2.py3-none-any.whl.metadata (14 kB)\n",
      "Requirement already satisfied: urllib3>=1.26.0 in c:\\python312\\lib\\site-packages (from twine) (2.2.3)\n",
      "Collecting keyring>=15.1 (from twine)\n",
      "  Using cached keyring-25.5.0-py3-none-any.whl.metadata (20 kB)\n",
      "Requirement already satisfied: rfc3986>=1.4.0 in c:\\python312\\lib\\site-packages (from twine) (2.0.0)\n",
      "Collecting rich>=12.0.0 (from twine)\n",
      "  Using cached rich-13.9.4-py3-none-any.whl.metadata (18 kB)\n",
      "Requirement already satisfied: packaging in c:\\users\\antho\\appdata\\roaming\\python\\python312\\site-packages (from twine) (24.1)\n",
      "Collecting jaraco.classes (from keyring>=15.1->twine)\n",
      "  Using cached jaraco.classes-3.4.0-py3-none-any.whl.metadata (2.6 kB)\n",
      "Collecting jaraco.functools (from keyring>=15.1->twine)\n",
      "  Using cached jaraco.functools-4.1.0-py3-none-any.whl.metadata (2.9 kB)\n",
      "Requirement already satisfied: jaraco.context in c:\\python312\\lib\\site-packages (from keyring>=15.1->twine) (6.0.1)\n",
      "Requirement already satisfied: pywin32-ctypes>=0.2.0 in c:\\python312\\lib\\site-packages (from keyring>=15.1->twine) (0.2.3)\n",
      "Requirement already satisfied: nh3>=0.2.14 in c:\\python312\\lib\\site-packages (from readme-renderer>=35.0->twine) (0.2.19)\n",
      "Requirement already satisfied: docutils>=0.21.2 in c:\\python312\\lib\\site-packages (from readme-renderer>=35.0->twine) (0.21.2)\n",
      "Requirement already satisfied: Pygments>=2.5.1 in c:\\users\\antho\\appdata\\roaming\\python\\python312\\site-packages (from readme-renderer>=35.0->twine) (2.18.0)\n",
      "Requirement already satisfied: charset-normalizer<4,>=2 in c:\\python312\\lib\\site-packages (from requests>=2.20->twine) (3.4.0)\n",
      "Requirement already satisfied: idna<4,>=2.5 in c:\\python312\\lib\\site-packages (from requests>=2.20->twine) (3.10)\n",
      "Requirement already satisfied: certifi>=2017.4.17 in c:\\python312\\lib\\site-packages (from requests>=2.20->twine) (2024.8.30)\n",
      "Collecting markdown-it-py>=2.2.0 (from rich>=12.0.0->twine)\n",
      "  Using cached markdown_it_py-3.0.0-py3-none-any.whl.metadata (6.9 kB)\n",
      "Requirement already satisfied: mdurl~=0.1 in c:\\python312\\lib\\site-packages (from markdown-it-py>=2.2.0->rich>=12.0.0->twine) (0.1.2)\n",
      "Requirement already satisfied: more-itertools in c:\\python312\\lib\\site-packages (from jaraco.classes->keyring>=15.1->twine) (10.5.0)\n",
      "Using cached twine-6.0.1-py3-none-any.whl (39 kB)\n",
      "Using cached keyring-25.5.0-py3-none-any.whl (39 kB)\n",
      "Using cached readme_renderer-44.0-py3-none-any.whl (13 kB)\n",
      "Using cached requests_toolbelt-1.0.0-py2.py3-none-any.whl (54 kB)\n",
      "Using cached rich-13.9.4-py3-none-any.whl (242 kB)\n",
      "Using cached markdown_it_py-3.0.0-py3-none-any.whl (87 kB)\n",
      "Using cached jaraco.classes-3.4.0-py3-none-any.whl (6.8 kB)\n",
      "Using cached jaraco.functools-4.1.0-py3-none-any.whl (10 kB)\n",
      "Installing collected packages: readme-renderer, markdown-it-py, jaraco.functools, jaraco.classes, rich, requests-toolbelt, keyring, twine\n"
     ]
    },
    {
     "name": "stderr",
     "output_type": "stream",
     "text": [
      "  WARNING: Failed to write executable - trying to use .deleteme logic\n",
      "ERROR: Could not install packages due to an OSError: [WinError 2] Het systeem kan het opgegeven bestand niet vinden: 'C:\\\\Python312\\\\Scripts\\\\markdown-it.exe' -> 'C:\\\\Python312\\\\Scripts\\\\markdown-it.exe.deleteme'\n",
      "\n",
      "\n",
      "[notice] A new release of pip is available: 24.0 -> 24.3.1\n",
      "[notice] To update, run: python.exe -m pip install --upgrade pip\n"
     ]
    }
   ],
   "source": [
    "! pip install twine"
   ]
  },
  {
   "cell_type": "code",
   "execution_count": 4,
   "metadata": {},
   "outputs": [
    {
     "name": "stdout",
     "output_type": "stream",
     "text": [
      "running bdist_wheel\n",
      "running build\n",
      "running build_py\n",
      "copying packagefiles\\love.py -> build\\lib\\packagefiles\n",
      "copying packagefiles\\rainbow.py -> build\\lib\\packagefiles\n",
      "copying packagefiles\\rocket.py -> build\\lib\\packagefiles\n",
      "copying packagefiles\\simple.py -> build\\lib\\packagefiles\n",
      "copying packagefiles\\__init__.py -> build\\lib\\packagefiles\n",
      "installing to build\\bdist.win-amd64\\wheel\n",
      "running install\n",
      "running install_lib\n",
      "creating build\\bdist.win-amd64\\wheel\n",
      "creating build\\bdist.win-amd64\\wheel\\packagefiles\n",
      "copying build\\lib\\packagefiles\\love.py -> build\\bdist.win-amd64\\wheel\\.\\packagefiles\n",
      "copying build\\lib\\packagefiles\\rainbow.py -> build\\bdist.win-amd64\\wheel\\.\\packagefiles\n",
      "copying build\\lib\\packagefiles\\rocket.py -> build\\bdist.win-amd64\\wheel\\.\\packagefiles\n",
      "copying build\\lib\\packagefiles\\simple.py -> build\\bdist.win-amd64\\wheel\\.\\packagefiles\n",
      "copying build\\lib\\packagefiles\\__init__.py -> build\\bdist.win-amd64\\wheel\\.\\packagefiles\n",
      "running install_egg_info\n",
      "running egg_info\n",
      "writing DSPS_Package.egg-info\\PKG-INFO\n",
      "writing dependency_links to DSPS_Package.egg-info\\dependency_links.txt\n",
      "writing requirements to DSPS_Package.egg-info\\requires.txt\n",
      "writing top-level names to DSPS_Package.egg-info\\top_level.txt\n",
      "reading manifest file 'DSPS_Package.egg-info\\SOURCES.txt'\n",
      "adding license file 'LICENSE.txt'\n",
      "writing manifest file 'DSPS_Package.egg-info\\SOURCES.txt'\n",
      "Copying DSPS_Package.egg-info to build\\bdist.win-amd64\\wheel\\.\\DSPS_Package-1.0-py3.12.egg-info\n",
      "running install_scripts\n",
      "creating build\\bdist.win-amd64\\wheel\\DSPS_Package-1.0.dist-info\\WHEEL\n",
      "creating 'dist\\DSPS_Package-1.0-py3-none-any.whl' and adding 'build\\bdist.win-amd64\\wheel' to it\n",
      "adding 'packagefiles/__init__.py'\n",
      "adding 'packagefiles/love.py'\n",
      "adding 'packagefiles/rainbow.py'\n",
      "adding 'packagefiles/rocket.py'\n",
      "adding 'packagefiles/simple.py'\n",
      "adding 'DSPS_Package-1.0.dist-info/LICENSE.txt'\n",
      "adding 'DSPS_Package-1.0.dist-info/METADATA'\n",
      "adding 'DSPS_Package-1.0.dist-info/WHEEL'\n",
      "adding 'DSPS_Package-1.0.dist-info/top_level.txt'\n",
      "adding 'DSPS_Package-1.0.dist-info/RECORD'\n",
      "removing build\\bdist.win-amd64\\wheel\n"
     ]
    },
    {
     "name": "stderr",
     "output_type": "stream",
     "text": [
      "c:\\Python312\\Lib\\site-packages\\setuptools\\_distutils\\cmd.py:66: SetuptoolsDeprecationWarning: setup.py install is deprecated.\n",
      "!!\n",
      "\n",
      "        ********************************************************************************\n",
      "        Please avoid running ``setup.py`` directly.\n",
      "        Instead, use pypa/build, pypa/installer or other\n",
      "        standards-based tools.\n",
      "\n",
      "        See https://blog.ganssle.io/articles/2021/10/setup-py-deprecated.html for details.\n",
      "        ********************************************************************************\n",
      "\n",
      "!!\n",
      "  self.initialize_options()\n"
     ]
    }
   ],
   "source": [
    "! python setup.py bdist_wheel"
   ]
  },
  {
   "cell_type": "code",
   "execution_count": 5,
   "metadata": {},
   "outputs": [
    {
     "name": "stdout",
     "output_type": "stream",
     "text": [
      "Processing c:\\users\\antho\\onedrive\\documenten\\anthony-tm\\scripting\\scripting-students-24-sem1\\week12\\myfirstpackage\\dist\\dsps_package-1.0-py3-none-any.whl\n",
      "Requirement already satisfied: PILLOW in c:\\python312\\lib\\site-packages (from DSPS-Package==1.0) (11.0.0)\n",
      "Requirement already satisfied: playsound in c:\\python312\\lib\\site-packages (from DSPS-Package==1.0) (1.3.0)\n",
      "Requirement already satisfied: requests in c:\\python312\\lib\\site-packages (from DSPS-Package==1.0) (2.32.3)\n",
      "Requirement already satisfied: charset-normalizer<4,>=2 in c:\\python312\\lib\\site-packages (from requests->DSPS-Package==1.0) (3.4.0)\n",
      "Requirement already satisfied: idna<4,>=2.5 in c:\\python312\\lib\\site-packages (from requests->DSPS-Package==1.0) (3.10)\n",
      "Requirement already satisfied: urllib3<3,>=1.21.1 in c:\\python312\\lib\\site-packages (from requests->DSPS-Package==1.0) (2.2.3)\n",
      "Requirement already satisfied: certifi>=2017.4.17 in c:\\python312\\lib\\site-packages (from requests->DSPS-Package==1.0) (2024.8.30)\n",
      "Installing collected packages: DSPS-Package\n",
      "Successfully installed DSPS-Package-1.0\n"
     ]
    },
    {
     "name": "stderr",
     "output_type": "stream",
     "text": [
      "\n",
      "[notice] A new release of pip is available: 24.0 -> 24.3.1\n",
      "[notice] To update, run: python.exe -m pip install --upgrade pip\n"
     ]
    }
   ],
   "source": [
    "! pip install \"..\\MyFirstPackage\\dist\\DSPS_Package-1.0-py3-none-any.whl\""
   ]
  }
 ],
 "metadata": {
  "kernelspec": {
   "display_name": "Python 3",
   "language": "python",
   "name": "python3"
  },
  "language_info": {
   "codemirror_mode": {
    "name": "ipython",
    "version": 3
   },
   "file_extension": ".py",
   "mimetype": "text/x-python",
   "name": "python",
   "nbconvert_exporter": "python",
   "pygments_lexer": "ipython3",
   "version": "3.12.4"
  }
 },
 "nbformat": 4,
 "nbformat_minor": 2
}
