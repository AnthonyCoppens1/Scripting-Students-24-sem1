{
 "cells": [
  {
   "cell_type": "markdown",
   "metadata": {},
   "source": [
    "# Python Basics: class of 17/09"
   ]
  },
  {
   "cell_type": "code",
   "execution_count": 2,
   "metadata": {},
   "outputs": [
    {
     "name": "stdout",
     "output_type": "stream",
     "text": [
      "Hello World\n"
     ]
    }
   ],
   "source": [
    "print(\"Hello World\")"
   ]
  },
  {
   "cell_type": "markdown",
   "metadata": {},
   "source": [
    "## Input & output\n",
    "Conversion between types\n",
    "- int --> integer number\n",
    "- float --> decimal number\n",
    "- str --> string = text!"
   ]
  },
  {
   "cell_type": "code",
   "execution_count": 14,
   "metadata": {},
   "outputs": [
    {
     "name": "stdout",
     "output_type": "stream",
     "text": [
      "5\n",
      "value of x: 5\n",
      "<class 'str'>\n",
      "5\n",
      "<class 'int'>\n",
      "value of x: 2.5\n",
      "5.0\n",
      "<class 'float'>\n",
      "value of x: 5.0\n"
     ]
    }
   ],
   "source": [
    "# find the sign of x\n",
    "\n",
    "x = input(\"Give me a number: \")\n",
    "print(x)\n",
    "print(\"value of x:\", x)\n",
    "print(type(x))\n",
    "\n",
    "# converting from one datatype to another\n",
    "int_number = int(x)\n",
    "print(int_number)\n",
    "print(type(int_number))\n",
    "print(\"value of x:\", int_number/2)\n",
    "\n",
    "\n",
    "float_number = float(x)\n",
    "print(float_number)\n",
    "print(type(float_number))\n",
    "print(\"value of x:\", float_number)\n"
   ]
  },
  {
   "cell_type": "markdown",
   "metadata": {},
   "source": [
    "## Combining outputs --> concatenation\n",
    "- '+' -> combines 2 strings or adds 2 numbers you have to provide a space and all parts have to be strings\n",
    "- ',' -> provides an actual space and allows the use of different datatypes"
   ]
  },
  {
   "cell_type": "code",
   "execution_count": 19,
   "metadata": {},
   "outputs": [
    {
     "name": "stdout",
     "output_type": "stream",
     "text": [
      "The number is 5\n",
      "10\n",
      "The number is 5\n",
      "55\n",
      "10\n"
     ]
    }
   ],
   "source": [
    "number = 5\n",
    "print(\"The number is\", number)\n",
    "print(number + number) #10\n",
    "print(\"The number is \" + str(number))\n",
    "print(str(number) + str(number)) #55\n",
    "\n",
    "print(str(number + number)) #10\n"
   ]
  },
  {
   "cell_type": "markdown",
   "metadata": {},
   "source": [
    "## Expressions\n",
    "### Arithmetic operations"
   ]
  },
  {
   "cell_type": "code",
   "execution_count": 30,
   "metadata": {},
   "outputs": [
    {
     "name": "stdout",
     "output_type": "stream",
     "text": [
      "15 8\n",
      "23\n",
      "\n",
      "10 3\n",
      "13\n",
      "7\n",
      "30\n",
      "3.3333333333333335\n",
      "3\n",
      "1\n"
     ]
    }
   ],
   "source": [
    "x = 15\n",
    "y = 8\n",
    "\n",
    "print(x, y) #print both numbers\n",
    "print(x + y) #addition then print\n",
    "\n",
    "print()\n",
    "\n",
    "#change or assign multiple values at the same time\n",
    "x,y = 10,3 #also possible to add different datatypes\n",
    "print(x,y) \n",
    "print(x + y) #13\n",
    "print(x - y) #7\n",
    "print(x * y) #30\n",
    "print(x / y) #3.33333\n",
    "print(x // y) #3 --> integer division (divide in equal groups of ... without adding the remainder)\n",
    "print(x % y) #1 remainder after integer division --> 10//3 = 3 --> 10 - (3*3) = 1"
   ]
  },
  {
   "cell_type": "markdown",
   "metadata": {},
   "source": [
    "### Assignment operators"
   ]
  },
  {
   "cell_type": "code",
   "execution_count": 39,
   "metadata": {},
   "outputs": [
    {
     "name": "stdout",
     "output_type": "stream",
     "text": [
      "13 <class 'int'>\n",
      "10 <class 'int'>\n",
      "30 <class 'int'>\n",
      "10.0 <class 'float'>\n",
      "3.0 <class 'float'>\n",
      "1000 <class 'int'>\n",
      "1001\n"
     ]
    }
   ],
   "source": [
    "x,y = 10,3\n",
    "x += y; print(x,type(x))     #x = x + y --> 13\n",
    "x -= y; print(x, type(x))   #10\n",
    "x *= y; print(x, type(x))   #30\n",
    "x /= y; print(x, type(x))   #10.0\n",
    "x //= y; print(x, type(x))  #3.0\n",
    "\n",
    "x = 10\n",
    "x**= y; print(x, type(x))   #1000\n",
    "\n",
    "#x++ --> not available\n",
    "x += 1 #translation of x++\n",
    "print(x)\n"
   ]
  },
  {
   "cell_type": "markdown",
   "metadata": {},
   "source": [
    "### Comparison operators"
   ]
  },
  {
   "cell_type": "code",
   "execution_count": 46,
   "metadata": {},
   "outputs": [
    {
     "name": "stdout",
     "output_type": "stream",
     "text": [
      "False\n",
      "True\n",
      "False\n",
      "True\n",
      "False\n",
      "True\n"
     ]
    }
   ],
   "source": [
    "x, y = 10, 3\n",
    "print(x < y)\n",
    "print(x > y)\n",
    "print(x <= y)\n",
    "print(x >= y)\n",
    "print(x == y)\n",
    "print(x != y)"
   ]
  },
  {
   "cell_type": "markdown",
   "metadata": {},
   "source": [
    "### Python built in functions"
   ]
  },
  {
   "cell_type": "code",
   "execution_count": 57,
   "metadata": {},
   "outputs": [
    {
     "name": "stdout",
     "output_type": "stream",
     "text": [
      "Some text\n",
      "some text\n",
      "SOME TEXT\n",
      "som3 t3xt\n",
      "no text\n",
      "5.1235421\n",
      "-5.1235\n"
     ]
    }
   ],
   "source": [
    "text = \"some text\"\n",
    "print(text.capitalize()) #not permanently saved\n",
    "print(text.lower())\n",
    "print(text.upper())\n",
    "print(text.replace(\"e\",\"3\")) #replaces every occurence\n",
    "print(text.replace(\"some\", \"no\"))\n",
    "\n",
    "x = -5.1235421\n",
    "print(abs(x))\n",
    "print(round(x,4))"
   ]
  },
  {
   "cell_type": "markdown",
   "metadata": {},
   "source": [
    "## Conditional statements\n",
    "if-structure!\n",
    "zero is even"
   ]
  },
  {
   "cell_type": "code",
   "execution_count": 64,
   "metadata": {},
   "outputs": [
    {
     "name": "stdout",
     "output_type": "stream",
     "text": [
      "10 is positive\n",
      "10 is positive\n",
      "10 is even\n"
     ]
    }
   ],
   "source": [
    "#find the sign of a specific number\n",
    "#input() is always a string, therefore we have to convert the function\n",
    "\n",
    "number = int(input(\"Enter a number:\"))\n",
    "#number = int(number)\n",
    "\n",
    "if number > 0:\n",
    "    print(number, \"is positive\")\n",
    "elif number < 0:\n",
    "    print(number, \"is negative\")\n",
    "else:\n",
    "    print(number, \"is zero\")\n",
    "\n",
    "\n",
    "#other implementation\n",
    "if number == 0:\n",
    "    print(number, \"is zero\")\n",
    "elif number > 0:\n",
    "    print(number, \"is positive\")\n",
    "else:\n",
    "    print(number, \"is negative\")\n",
    "\n",
    "\n",
    "#determine whether a number is even or odd\n",
    "#zero is even\n",
    "\n",
    "if number % 2 == 0:\n",
    "    print(number, \"is even\")\n",
    "else:\n",
    "    print(number, \"is odd\")"
   ]
  },
  {
   "cell_type": "markdown",
   "metadata": {},
   "source": [
    "### Some exercises\n",
    "- Write an if-statement that checks if a person is old enough to vote based on their actual age calculated with year of birth. If the person is 18 or older, print \"you are eligible to vote\", otherwise print \"you are NOT eligible to vote\"\n",
    "\n",
    "- Write an if-statement that checks if a string is empty. If the string is empty --> \"string is empty\" otherwise \"string is not empty\"\n",
    "\n",
    "- Write an if-statement that checks if a password is secure --> at least 8 characters and both letters and numbers --> \"The password is secure\" / \"The password is NOT secure\""
   ]
  },
  {
   "cell_type": "code",
   "execution_count": 67,
   "metadata": {},
   "outputs": [
    {
     "name": "stdout",
     "output_type": "stream",
     "text": [
      "24\n"
     ]
    }
   ],
   "source": [
    "#nr 1\n",
    "from datetime import datetime as dt\n",
    "\n",
    "year = input(\"Enter your year of birth:\")\n",
    "age = dt.now().year - int(year)\n",
    "\n",
    "if age >= 18:\n",
    "    print(\"you are eligible to vote\")\n",
    "else:\n",
    "    print(\"you are NOT eligible to vote\")"
   ]
  },
  {
   "cell_type": "code",
   "execution_count": null,
   "metadata": {},
   "outputs": [],
   "source": [
    "#nr 2\n",
    "stringToCheck = input(\"Enter a string\")\n",
    "\n",
    "if not stringToCheck:\n",
    "    print(\"The string is empty\")\n",
    "else:\n",
    "    print(\"the string is not empty\")\n",
    "\n",
    "\n",
    "if stringToCheck == \"\":\n",
    "    print(\"The string is empty\")\n",
    "else:\n",
    "    print(\"the string is not empty\")"
   ]
  },
  {
   "cell_type": "code",
   "execution_count": 72,
   "metadata": {},
   "outputs": [
    {
     "name": "stdout",
     "output_type": "stream",
     "text": [
      "The password is NOT secure\n"
     ]
    }
   ],
   "source": [
    "#nr 3\n",
    "\n",
    "Charcheck = input(\"Give me a password\")\n",
    "if len(Charcheck) >= 8 and any(char.isdigit() for char in Charcheck) and any(char.isalpha() for char in Charcheck):\n",
    "    print(\"The password is secure\")\n",
    "else:\n",
    "    print(\"The password is NOT secure\")\n"
   ]
  },
  {
   "cell_type": "markdown",
   "metadata": {},
   "source": [
    "## Loops\n",
    "- <b>for-loops</b>: iterating over a sequence or a range, you know how many times you need to loop.\n",
    "- **while-loop**: looping as long as the condition is true, you don't know how many times you need to loop, it depends on the condition."
   ]
  },
  {
   "cell_type": "code",
   "execution_count": 76,
   "metadata": {},
   "outputs": [
    {
     "name": "stdout",
     "output_type": "stream",
     "text": [
      "a\n",
      " \n",
      "w\n",
      "o\n",
      "r\n",
      "d\n",
      "a   w o r d "
     ]
    }
   ],
   "source": [
    "# a word is also a sequence, it's a sequence of characters\n",
    "\n",
    "for c in \"a word\":\n",
    "    print(c)\n",
    "\n",
    "for c in \"a word\":\n",
    "    print(c,end = \" \") #adds a space behind every char c and prints behind each other"
   ]
  },
  {
   "cell_type": "code",
   "execution_count": 78,
   "metadata": {},
   "outputs": [
    {
     "name": "stdout",
     "output_type": "stream",
     "text": [
      "-5\n",
      "-4\n",
      "-3\n",
      "-2\n",
      "-1\n",
      "0\n",
      "1\n",
      "2\n",
      "3\n",
      "4\n",
      "5 *  0 = 0\n",
      "5 *  1 = 5\n",
      "5 *  2 = 10\n",
      "5 *  3 = 15\n",
      "5 *  4 = 20\n",
      "5 *  5 = 25\n",
      "5 *  6 = 30\n",
      "5 *  7 = 35\n",
      "5 *  8 = 40\n",
      "5 *  9 = 45\n",
      "5 *  10 = 50\n"
     ]
    }
   ],
   "source": [
    "for x in range(-5,5): #5 not included\n",
    "    print(x)\n",
    "\n",
    "for x in range(0,11):\n",
    "    print(\"5 * \", x, \"=\", x*5)"
   ]
  },
  {
   "cell_type": "code",
   "execution_count": 13,
   "metadata": {},
   "outputs": [
    {
     "name": "stdout",
     "output_type": "stream",
     "text": [
      "HELLO\n",
      "UPPER\n",
      "25 125 625 3125 15625 \n",
      "5 25 125 625 3125 "
     ]
    }
   ],
   "source": [
    "value = input(\"Enter something, stop with 'STOP'\")\n",
    "value = value.upper()\n",
    "\n",
    "while value != \"STOP\":\n",
    "    print(value)\n",
    "    value = input(\"Enter something else\")\n",
    "    value = value.upper()\n",
    "\n",
    "x = 5\n",
    "while x <= 10000:\n",
    "    x *= 5 #removing this line --> infinite loop\n",
    "    print(x, end = \" \")\n",
    "print()\n",
    "\n",
    "x = 500\n",
    "while x <= 10000:\n",
    "    print(x, end= \" \")\n",
    "    x *= 5"
   ]
  },
  {
   "cell_type": "markdown",
   "metadata": {},
   "source": [
    "## Combine conditions\n",
    "- **and**: both conditions are met\n",
    "- **or**: at least one condition is met\n",
    "- **not**: reverse result of condition"
   ]
  },
  {
   "cell_type": "code",
   "execution_count": 11,
   "metadata": {},
   "outputs": [
    {
     "name": "stdout",
     "output_type": "stream",
     "text": [
      "True\n",
      "True\n",
      "False\n",
      "False\n",
      "False\n",
      "True\n",
      "True\n"
     ]
    }
   ],
   "source": [
    "x,y,z = 1,2,3\n",
    "\n",
    "print(x < y and y < z) #True\n",
    "print(x < y or y < z) #True\n",
    "print(x > y or y > z) #False\n",
    "print(x > y and y > z) #False\n",
    "\n",
    "print(x < y and y > z) #False\n",
    "print(x < y or y > z) #True\n",
    "\n",
    "print(not(x < y and y > z)) #True\n",
    "print(not(x < y or y > z)) #False"
   ]
  }
 ],
 "metadata": {
  "kernelspec": {
   "display_name": "Python 3",
   "language": "python",
   "name": "python3"
  },
  "language_info": {
   "codemirror_mode": {
    "name": "ipython",
    "version": 3
   },
   "file_extension": ".py",
   "mimetype": "text/x-python",
   "name": "python",
   "nbconvert_exporter": "python",
   "pygments_lexer": "ipython3",
   "version": "3.12.4"
  }
 },
 "nbformat": 4,
 "nbformat_minor": 2
}
