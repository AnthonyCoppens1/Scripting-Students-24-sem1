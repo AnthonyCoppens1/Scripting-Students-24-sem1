{
 "cells": [
  {
   "cell_type": "markdown",
   "metadata": {},
   "source": [
    "# Lesson 5 - API's\n",
    "- files recap\n",
    "- API ?!?\n",
    "- JSON <> XML\n",
    "- Fun stuff"
   ]
  },
  {
   "cell_type": "markdown",
   "metadata": {},
   "source": [
    "## Recap Files\n",
    "download logbook.txt from canvas, read it and group activities per month as a dictionary.\n",
    "input:\n",
    "2021-03-09 13:13:40 - Started work on project E\n",
    "2021-01-05 13:22:18 - Began coding on project B\n",
    "2020-09-18 16:49:34 - Reviewed code on project B\n",
    "2022-11-14 16:17:50 - Started work on project D\n",
    "\n",
    "output:\n",
    "January: 70 activities <br>\n",
    "February: 75 activities <br>\n",
    "March: 88 activities <br>²"
   ]
  },
  {
   "cell_type": "code",
   "execution_count": 2,
   "metadata": {},
   "outputs": [
    {
     "name": "stdout",
     "output_type": "stream",
     "text": [
      "January : 70 activities\n",
      "February : 75 activities\n",
      "March : 88 activities\n",
      "April : 72 activities\n",
      "May : 94 activities\n",
      "June : 91 activities\n",
      "July : 87 activities\n",
      "August : 89 activities\n",
      "September : 87 activities\n",
      "October : 74 activities\n",
      "November : 85 activities\n",
      "December : 88 activities\n"
     ]
    }
   ],
   "source": [
    "months = [\"January\", \"February\", \"March\", \"April\", \"May\", \n",
    "\"June\", \"July\", \"August\", \"September\", \"October\", \"November\", \"December\"]\n",
    "\n",
    "activities = {}\n",
    "with open(\"logbook.txt\", \"r\") as file:\n",
    "    for line in file.readlines():\n",
    "        month = int(line.split(\"-\")[1]) - 1\n",
    "        nameOfMonth = months[month]\n",
    "\n",
    "        if nameOfMonth in activities.keys():\n",
    "            activities[nameOfMonth] += 1\n",
    "        else:\n",
    "            activities[nameOfMonth] = 1\n",
    "\n",
    "for month in months:\n",
    "    print(month, \":\", activities[month], \"activities\")"
   ]
  },
  {
   "cell_type": "markdown",
   "metadata": {},
   "source": [
    "## JSON & XML\n",
    "JSON: text based file format used for storing and transmitting data, usually between web server and a client\n",
    "--> nowadays standard format for data exchange\n",
    "\n",
    "XML: eXtensible Markup Language --> more complex, requires a tag structure\n",
    "\n",
    "Module JSON\n",
    "always check the tree view of json file --> makes things easier\n",
    "https://codebeautify.org/jsonviewer\n"
   ]
  },
  {
   "cell_type": "code",
   "execution_count": 18,
   "metadata": {},
   "outputs": [
    {
     "name": "stdout",
     "output_type": "stream",
     "text": [
      "Anthony\n",
      "\n",
      "Eloquent JavaScript, Second Edition\n",
      "Eloquent JavaScript, Second Edition\n",
      "Learning JavaScript Design Patterns\n",
      "Speaking JavaScript\n",
      "Programming JavaScript Applications\n",
      "Understanding ECMAScript 6\n",
      "You Don't Know JS\n",
      "Git Pocket Guide\n",
      "Designing Evolvable Web APIs with ASP.NET\n",
      "\n",
      "Eloquent JavaScript, Second Edition\n",
      "Learning JavaScript Design Patterns\n",
      "Speaking JavaScript\n",
      "Programming JavaScript Applications\n",
      "Understanding ECMAScript 6\n",
      "You Don't Know JS\n",
      "Git Pocket Guide\n",
      "Designing Evolvable Web APIs with ASP.NET\n"
     ]
    }
   ],
   "source": [
    "import json\n",
    "# string json example\n",
    "\n",
    "json_data = '{\"name\":\"Anthony\", \"age\":28, \"study\":\"computer science\"}'\n",
    "data = json.loads(json_data) #string load\n",
    "print(data[\"name\"]) #result is a dictionary or item from dictionary\n",
    "\n",
    "\n",
    "json_file = open(\"books.json\", \"r\")\n",
    "data = json.loads(json_file.read())\n",
    "\n",
    "print()\n",
    "print(data[\"books\"][0][\"title\"]) #title of first book in list\n",
    "\n",
    "for i in range(0,len(data[\"books\"])): #print all of the titles\n",
    "    print(data[\"books\"][i][\"title\"])\n",
    "\n",
    "print()\n",
    "#easier way of looping over titles of books\n",
    "for book in data[\"books\"]:\n",
    "    print(book[\"title\"])\n",
    "\n",
    "json_file.close()"
   ]
  },
  {
   "cell_type": "code",
   "execution_count": 19,
   "metadata": {},
   "outputs": [],
   "source": [
    "json_file = open(\"activities.json\", \"w\")\n",
    "json.dump(activities, json_file) #converts the python data to a string\n",
    "json_file.close()"
   ]
  },
  {
   "cell_type": "code",
   "execution_count": 21,
   "metadata": {},
   "outputs": [],
   "source": [
    "import json\n",
    "\n",
    "python_data = {}\n",
    "python_data['people'] = []\n",
    "python_data['people'].append({'name':'Jason Statham', 'age':'57'})\n",
    "python_data['people'].append({'name':'Jason Derulo', 'age': '35'})\n",
    "python_data['people'].append({'name':'Jason Mamoa', 'age': '45'})\n",
    "python_data['people'].append({'name':'Jason Bateman', 'age': '55'})\n",
    "python_data['people'].append({'name':'Jennifer Jason Leigh', 'age': '62'})\n",
    "\n",
    "json_file = open('jason.json', 'w')\n",
    "json_data = json.dump(python_data, json_file)\n",
    "json_file.close()"
   ]
  },
  {
   "cell_type": "markdown",
   "metadata": {},
   "source": [
    "## Consume an API\n",
    "Making a request --> pip install requests\n",
    "Make an account on rapidapi.com\n",
    "API's:\n",
    "- kanye.rest\n",
    "- dad jokes (ninjas)\n",
    "- love calculator\n",
    "- weather (ninjas)\n",
    "- text translator\n",
    "- random cat facts\n",
    "\n",
    "API is a way to present DATA nicely\n",
    "As if your read a digital file but you ask permission --> \n",
    "requesting map of underlying functions"
   ]
  },
  {
   "cell_type": "code",
   "execution_count": 39,
   "metadata": {},
   "outputs": [
    {
     "name": "stdout",
     "output_type": "stream",
     "text": [
      "Requirement already satisfied: requests in c:\\python312\\lib\\site-packages (2.32.3)"
     ]
    },
    {
     "name": "stderr",
     "output_type": "stream",
     "text": [
      "\n",
      "[notice] A new release of pip is available: 24.0 -> 24.2\n",
      "[notice] To update, run: python.exe -m pip install --upgrade pip\n"
     ]
    },
    {
     "name": "stdout",
     "output_type": "stream",
     "text": [
      "\n",
      "Requirement already satisfied: charset-normalizer<4,>=2 in c:\\python312\\lib\\site-packages (from requests) (3.4.0)\n",
      "Requirement already satisfied: idna<4,>=2.5 in c:\\python312\\lib\\site-packages (from requests) (3.10)\n",
      "Requirement already satisfied: urllib3<3,>=1.21.1 in c:\\python312\\lib\\site-packages (from requests) (2.2.3)\n",
      "Requirement already satisfied: certifi>=2017.4.17 in c:\\python312\\lib\\site-packages (from requests) (2024.8.30)\n"
     ]
    },
    {
     "name": "stderr",
     "output_type": "stream",
     "text": [
      "ERROR: Could not find a version that satisfies the requirement pycharm (from versions: none)\n",
      "ERROR: No matching distribution found for pycharm\n",
      "\n",
      "[notice] A new release of pip is available: 24.0 -> 24.2\n",
      "[notice] To update, run: python.exe -m pip install --upgrade pip\n"
     ]
    }
   ],
   "source": [
    "! pip install requests"
   ]
  },
  {
   "cell_type": "code",
   "execution_count": 7,
   "metadata": {},
   "outputs": [
    {
     "name": "stdout",
     "output_type": "stream",
     "text": [
      "200\n",
      "{\"quote\":\"Distraction is the enemy of vision\"}\n",
      "from text {\"quote\":\"Distraction is the enemy of vision\"} to json: Distraction is the enemy of vision\n",
      "Distraction is the enemy of vision\n"
     ]
    }
   ],
   "source": [
    "import json\n",
    "import requests\n",
    "\n",
    "url = \"https://api.kanye.rest\"\n",
    "response = requests.get(url) #general way: response = requests.request(\"GET\", url, headers=headers)\n",
    "print(response.status_code)\n",
    "\n",
    "text = response.text\n",
    "print(text) #give you the whole json code\n",
    "\n",
    "data = json.loads(text)\n",
    "print(\"from text\", text, \"to json:\", data[\"quote\"])\n",
    "\n",
    "data = response.json()\n",
    "print(data[\"quote\"])"
   ]
  },
  {
   "cell_type": "code",
   "execution_count": 2,
   "metadata": {},
   "outputs": [
    {
     "name": "stdout",
     "output_type": "stream",
     "text": [
      "Son: Dad, have you seen my sunglasses? Dad: No, have you seen my dad glasses?\n",
      "I wanted to eat a watch for lunch, but it was too time-consuming.\n",
      "When I see the names of lovers engraved on a tree, I don’t find it cute or romantic. I find it weird how many people take knives with them on dates.\n",
      "What brand of underwear do scientists wear? Kelvin Klein.\n"
     ]
    }
   ],
   "source": [
    "#DAD Jokes api\n",
    "import requests\n",
    "\n",
    "url = \"https://dad-jokes-by-api-ninjas.p.rapidapi.com/v1/dadjokes\"\n",
    "\n",
    "headers = {\n",
    "\t\"x-rapidapi-key\": \"fd6f435c07msh3de62319fcfa275p143e5cjsn4293d86a9f09\",\n",
    "\t\"x-rapidapi-host\": \"dad-jokes-by-api-ninjas.p.rapidapi.com\"\n",
    "}\n",
    "\n",
    "response = requests.get(url, headers=headers)\n",
    "data = response.json()\n",
    "\n",
    "S = input(\"Do you want a dad joke? Y or N\")\n",
    "while S == \"Y\":\n",
    "    print(data[0][\"joke\"])\n",
    "    S = input(\"Do you want a dad joke? Y or N\")\n",
    "    response = requests.get(url, headers=headers)\n",
    "    data = response.json()"
   ]
  },
  {
   "cell_type": "code",
   "execution_count": 6,
   "metadata": {},
   "outputs": [
    {
     "name": "stdout",
     "output_type": "stream",
     "text": [
      "96 % change of succes between Victoria Beckham and David Beckham\n"
     ]
    }
   ],
   "source": [
    "import requests\n",
    "\n",
    "url = \"https://love-calculator.p.rapidapi.com/getPercentage\"\n",
    "\n",
    "sname = input(\"Who's the first person you want to check? \")\n",
    "fname = input(\"Who's the second person you want to check? \")\n",
    "querystring = {\"sname\":sname,\"fname\":fname}\n",
    "\n",
    "headers = {\n",
    "\t\"x-rapidapi-key\": \"fd6f435c07msh3de62319fcfa275p143e5cjsn4293d86a9f09\",\n",
    "\t\"x-rapidapi-host\": \"love-calculator.p.rapidapi.com\"\n",
    "}\n",
    "\n",
    "response = requests.get(url, headers=headers, params=querystring)\n",
    "data = response.json()\n",
    "print(data[\"percentage\"], \"% change of succes between\", fname, \"and\", sname)\n"
   ]
  }
 ],
 "metadata": {
  "kernelspec": {
   "display_name": "Python 3",
   "language": "python",
   "name": "python3"
  },
  "language_info": {
   "codemirror_mode": {
    "name": "ipython",
    "version": 3
   },
   "file_extension": ".py",
   "mimetype": "text/x-python",
   "name": "python",
   "nbconvert_exporter": "python",
   "pygments_lexer": "ipython3",
   "version": "3.12.4"
  }
 },
 "nbformat": 4,
 "nbformat_minor": 2
}
