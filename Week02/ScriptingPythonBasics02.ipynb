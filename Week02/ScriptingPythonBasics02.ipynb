{
 "cells": [
  {
   "cell_type": "markdown",
   "metadata": {},
   "source": [
    "# Python Basics: week 2 24/0\n",
    "## Repetition is the mother of all learning\n",
    "Exercises from last week"
   ]
  },
  {
   "cell_type": "markdown",
   "metadata": {},
   "source": [
    "### Extra exercises from ChatGPT\n",
    "\n",
    "- Write a for loop that prints the numbers from 1 to 10.\n",
    "- Write a program to find out if a number is a prime number or not\n",
    "- Write a for loop that prints the even numbers from 2 to 20.\n",
    "- Write a for loop that prints the squares of the numbers from 1 to 5.\n",
    "- Write a for loop that iterates over a string and prints each character.\n",
    "- Write a while loop that prints the numbers from 1 to 10.\n",
    "- Write a while loop that prints the even numbers from 2 to 20.\n",
    "- Write a while loop that prints the squares of the numbers from 1 to 5.\n",
    "- Write a while loop that iterates over a string and prints each character.\n",
    "- Write a for loop that prints the numbers from 1 to 10, but only print the even numbers.\n",
    "- Write a while loop that prompts the user to enter a password, and keep asking until they enter the correct password.\n",
    "- Write a while loop that prompts the user to enter a number, and keep asking until they enter a positive number.\n",
    "- FizzBuzz: Write a program that prints the numbers from 1 to 100. For multiples of 3, print \"Fizz\" instead of the number, and for multiples of 5, print \"Buzz\". For numbers which are multiples of both 3 and 5, print \"FizzBuzz\".\n",
    "- Sum of numbers: Write a program that takes a positive integer n as input and calculates the sum of all numbers from 1 to n.\n",
    "- Write a program that calculates the area of a circle using the formula area = pi * r**2. Ask the user to input the radius of the circle, and print out the calculated area.\n",
    "- Write a program that calculates the sum of the first 100 positive integers using the formula sum = n * (n + 1) / 2. Print out the calculated sum.\n",
    "- Write a program that asks the user to enter their name, and then prints out a personalized greeting using their name.\n",
    "- Write a program that asks the user to enter a number, and then prints out whether the number is positive, negative, or zero.\n",
    "- Write a program that asks the user to enter a temperature in Celsius, and then converts the temperature to Fahrenheit using the formula fahrenheit = celsius * 9/5 + 32. Print out the converted temperature.\n",
    "- Write a program that asks the user to enter the lengths of the sides of a rectangle, and then calculates the area and perimeter of the rectangle. Print out the calculated values."
   ]
  },
  {
   "cell_type": "code",
   "execution_count": null,
   "metadata": {},
   "outputs": [],
   "source": [
    "#loop from 1-10\n",
    "\n",
    "for i in range(1,11):\n",
    "    print(i)\n",
    "\n",
    "#looping over a word\n",
    "\n",
    "for i in \"door\":\n",
    "    print(i)\n",
    "\n",
    "#while\n",
    "x = 1\n",
    "while x < 100:\n",
    "    print(x)\n",
    "    x+=1"
   ]
  },
  {
   "cell_type": "code",
   "execution_count": 6,
   "metadata": {},
   "outputs": [
    {
     "name": "stdout",
     "output_type": "stream",
     "text": [
      "1\n",
      "2\n",
      "Fizz\n",
      "4\n",
      "Buzz\n",
      "Fizz\n",
      "7\n",
      "8\n",
      "Fizz\n",
      "Buzz\n",
      "11\n",
      "Fizz\n",
      "13\n",
      "14\n",
      "FizzBuzz\n",
      "16\n",
      "17\n",
      "Fizz\n",
      "19\n",
      "Buzz\n",
      "Fizz\n",
      "22\n",
      "23\n",
      "Fizz\n",
      "Buzz\n",
      "26\n",
      "Fizz\n",
      "28\n",
      "29\n",
      "FizzBuzz\n",
      "31\n",
      "32\n",
      "Fizz\n",
      "34\n",
      "Buzz\n",
      "Fizz\n",
      "37\n",
      "38\n",
      "Fizz\n",
      "Buzz\n",
      "41\n",
      "Fizz\n",
      "43\n",
      "44\n",
      "FizzBuzz\n",
      "46\n",
      "47\n",
      "Fizz\n",
      "49\n",
      "Buzz\n",
      "Fizz\n",
      "52\n",
      "53\n",
      "Fizz\n",
      "Buzz\n",
      "56\n",
      "Fizz\n",
      "58\n",
      "59\n",
      "FizzBuzz\n",
      "61\n",
      "62\n",
      "Fizz\n",
      "64\n",
      "Buzz\n",
      "Fizz\n",
      "67\n",
      "68\n",
      "Fizz\n",
      "Buzz\n",
      "71\n",
      "Fizz\n",
      "73\n",
      "74\n",
      "FizzBuzz\n",
      "76\n",
      "77\n",
      "Fizz\n",
      "79\n",
      "Buzz\n",
      "Fizz\n",
      "82\n",
      "83\n",
      "Fizz\n",
      "Buzz\n",
      "86\n",
      "Fizz\n",
      "88\n",
      "89\n",
      "FizzBuzz\n",
      "91\n",
      "92\n",
      "Fizz\n",
      "94\n",
      "Buzz\n",
      "Fizz\n",
      "97\n",
      "98\n",
      "Fizz\n",
      "Buzz\n"
     ]
    }
   ],
   "source": [
    "#FizzBuzz: Write a program that prints out the number 1 - 100 and for multiples of 3 print \"Fizz\"\n",
    "#for multiples of 5 we'll print \"Buzz\" and if my number is a multiple of both print \"FizzBuzz\"\n",
    "\n",
    "for x in range(1,101):\n",
    "    if x % 3 == 0 and x % 5 != 0:\n",
    "        print(\"Fizz\")\n",
    "    elif x % 5 == 0 and x % 3 != 0:\n",
    "        print(\"Buzz\")\n",
    "    elif x % 3 == 0 and x % 5 == 0:\n",
    "        print(\"FizzBuzz\")\n",
    "    else:\n",
    "        print(x)   \n"
   ]
  },
  {
   "cell_type": "code",
   "execution_count": 11,
   "metadata": {},
   "outputs": [
    {
     "name": "stdout",
     "output_type": "stream",
     "text": [
      "5050.0\n"
     ]
    }
   ],
   "source": [
    "#Write a program that calculates the sum of the first 100 positive integers using the formula:\n",
    "# sum = n * (n + 1) / 2 --> print the sum\n",
    "\n",
    "i = 100\n",
    "sum = i * (i + 1) / 2\n",
    "print(sum)"
   ]
  },
  {
   "cell_type": "markdown",
   "metadata": {},
   "source": [
    "### Revision ex: sequence of Hailstone\n",
    "- If n is 1 then the sequence ends\n",
    "- If n is even then the next n of the sequence = n/2\n",
    "- If n is odd then the next n of the sequence = (3*n)+1\n",
    "\n",
    "print every single number, including the starting one"
   ]
  },
  {
   "cell_type": "code",
   "execution_count": 15,
   "metadata": {},
   "outputs": [
    {
     "name": "stdout",
     "output_type": "stream",
     "text": [
      "Hailstone sequence 1 "
     ]
    }
   ],
   "source": [
    "n = int(input(\"Give a number: \"))\n",
    "print(\"Hailstone sequence\", n, end = \" \")\n",
    "\n",
    "while n != 1:\n",
    "    if n % 2 == 0:\n",
    "        n = n//2\n",
    "    else:\n",
    "        n = (3 * n) + 1\n",
    "    print(n, end = \" \")"
   ]
  },
  {
   "cell_type": "markdown",
   "metadata": {},
   "source": [
    "## Functions (methods of c#)\n",
    "\n",
    "In Python a function is a reusable block of code that performs a specific task. Functions can take input parameters, process them, and optionally return a result. To define a function in Python, you need to use the def keyword followed by the function name and the input parameter(s) enclose in parentheses.\n",
    "\n",
    "def name (par1, par2, ...):\n",
    "    \"do something with the parameters\"\n",
    "    return value\n",
    "\n",
    "\n",
    "Create a function that counts the vowels (aeiou) in a word 4 different ways\n",
    "- function --> no param & no return\n",
    "- function --> no param & return\n",
    "- function --> param & no return\n",
    "- functions (best case) --> param & return"
   ]
  },
  {
   "cell_type": "code",
   "execution_count": 17,
   "metadata": {},
   "outputs": [
    {
     "name": "stdout",
     "output_type": "stream",
     "text": [
      "Patience has 4 vowels\n"
     ]
    }
   ],
   "source": [
    "# - function --> no param & no return\n",
    "\n",
    "def CountVowelNPNR():\n",
    "    word = input(\"Enter a word: \")\n",
    "    count = 0\n",
    "\n",
    "    for c in word:\n",
    "        if c == 'a' or c == 'e' or c == 'i' or c == 'u' or c == 'o':\n",
    "            count += 1\n",
    "    print(word, \"has\", count, \"vowels\")\n",
    "\n",
    "CountVowelNPNR()"
   ]
  },
  {
   "cell_type": "code",
   "execution_count": 19,
   "metadata": {},
   "outputs": [
    {
     "data": {
      "text/plain": [
       "('Victor', 'has', '2', 'vowels')"
      ]
     },
     "execution_count": 19,
     "metadata": {},
     "output_type": "execute_result"
    }
   ],
   "source": [
    "#- function --> no param & return\n",
    "\n",
    "def CountVowelNPR():\n",
    "    word = input(\"Enter a word: \")\n",
    "    count = 0\n",
    "\n",
    "    for c in word:\n",
    "        if c == 'a' or c == 'e' or c == 'i' or c == 'u' or c == 'o':\n",
    "            count += 1\n",
    "    return word + \" has \" + str(count) + \" vowels\"\n",
    "\n",
    "CountVowelNPR()"
   ]
  },
  {
   "cell_type": "code",
   "execution_count": 24,
   "metadata": {},
   "outputs": [
    {
     "name": "stdout",
     "output_type": "stream",
     "text": [
      "laptop has 2 vowels\n"
     ]
    }
   ],
   "source": [
    "#- function --> param & no return\n",
    "\n",
    "def CountVowelPNR(word):\n",
    "    count = 0\n",
    "    for c in word.lower():\n",
    "        if c == 'a' or c == 'e' or c == 'i' or c == 'u' or c == 'o':\n",
    "            count += 1\n",
    "    print(word, \"has\", count, \"vowels\")\n",
    "\n",
    "word = input()\n",
    "CountVowelPNR(word)"
   ]
  },
  {
   "cell_type": "code",
   "execution_count": 28,
   "metadata": {},
   "outputs": [
    {
     "name": "stdout",
     "output_type": "stream",
     "text": [
      "anthony has 2 vowels\n",
      "parameters has 4 vowels\n",
      "2\n"
     ]
    }
   ],
   "source": [
    "#- function --> param & return\n",
    "# BEST CASE\n",
    "\n",
    "def CountVowelPR(word):\n",
    "    count = 0\n",
    "    for c in word.lower():\n",
    "        if c in \"aeiou\":\n",
    "            count += 1\n",
    "    return count\n",
    "\n",
    "word = input()\n",
    "print(word, \"has\", CountVowelPR(word), \"vowels\")\n",
    "print(\"parameters has\", CountVowelPR(\"parameters\"), \"vowels\")\n",
    "print(CountVowelPR(\"APPLE\"))"
   ]
  },
  {
   "cell_type": "markdown",
   "metadata": {},
   "source": [
    "### Exercise: next prime\n",
    "Find the next prime number, use a function!\n",
    "Prime number is a positive integer > 1 that has no positive integer divisors other than 1 and itself\n",
    "x / 1 and x / x (nothing else)\n",
    "\n",
    "E.g. 2, 3, 5, 7, 11, 13, 17, 19, 23, 29, 31, 37, ..."
   ]
  },
  {
   "cell_type": "code",
   "execution_count": 31,
   "metadata": {},
   "outputs": [
    {
     "name": "stdout",
     "output_type": "stream",
     "text": [
      "True 7\n",
      "False 29\n",
      "29\n"
     ]
    }
   ],
   "source": [
    "# functions: IsPrime(number) / NextPrime(number)\n",
    "\n",
    "def IsPrime(number):\n",
    "    count = 0\n",
    "    for i in range(1, number + 1):\n",
    "        if number % i == 0:\n",
    "            count += 1\n",
    "    if count == 2:\n",
    "        return True #has to capitalized!!\n",
    "    else:\n",
    "        return False\n",
    "\n",
    "def NextPrime(number):\n",
    "    number += 1\n",
    "\n",
    "    while not IsPrime(number):\n",
    "        number += 1\n",
    "    \n",
    "    return number\n",
    "\n",
    "print(IsPrime(5), NextPrime(5))\n",
    "print(IsPrime(24), NextPrime(24))\n",
    "print(NextPrime(24))"
   ]
  },
  {
   "cell_type": "markdown",
   "metadata": {},
   "source": [
    "## Collections\n",
    "In python a collection is a datatype that groups together multiple values into a single object. There's several collections: Lists, dictionaries, tuples and sets. Each type has its own properties and use cases.\n",
    "\n",
    "### List []\n",
    "Lists are one of the most common used data structures in Python.\n",
    "- They are ordered\n",
    "- They can contain any datatype (even mixtures)\n",
    "- They mutable --> contents can be modified after being created"
   ]
  },
  {
   "cell_type": "code",
   "execution_count": 25,
   "metadata": {},
   "outputs": [
    {
     "name": "stdout",
     "output_type": "stream",
     "text": [
      "[3, 'apple', 7.2, True]\n",
      "[3, 'apple', 7.2, True, 3, 8, 9]\n",
      "['first', 3, 'apple', 7.2, True, 3, 8, 9, 'word']\n",
      "['first', 3, 'apple', 7.2, True, 3, 8, 9]\n",
      "first\n",
      "9\n",
      "9\n",
      "['first', 3, 'apple', 7.2, True, 3, 8, 9]\n",
      "\n",
      "[9, 8, 3, True, 7.2, 'apple', 3, 'first']\n",
      "9 8 3 True 7.2 apple 3 first \n",
      "yes, there is an apple in the list\n",
      "[0, 2, 4, 6, 8, 10, 12, 14, 16, 18, 20, 22, 24, 26, 28, 30, 32, 34, 36, 38, 40, 42, 44, 46, 48, 50, 52, 54, 56, 58, 60, 62, 64, 66, 68, 70, 72, 74, 76, 78, 80, 82, 84, 86, 88, 90, 92, 94, 96, 98, 100]\n",
      "[0, 1, 4, 9, 16, 25, 36, 49, 64, 81]\n",
      "[2, 2, 2, 2, 2, 2, 2, 2, 2, 2]\n",
      "[2, 20, 2, 2, 2, 2, 2, 2, 2, 2]\n",
      "[9, 8, 3, 3]\n",
      "1 2 3 \n",
      "4 5 6 \n",
      "7 8 9 \n",
      "\n",
      "1 2 3 \n",
      "4 5 6 \n",
      "7 8 9 \n"
     ]
    }
   ],
   "source": [
    "list = []\n",
    "list.append(3) #adds an item to the end of the list\n",
    "list.append(\"apple\")\n",
    "list.append(7.2)\n",
    "list.append(True)\n",
    "print(list)\n",
    "\n",
    "list += [3,8,9]\n",
    "print(list)\n",
    "\n",
    "list = list + [\"word\"]\n",
    "list.insert(0,\"first\") #insert at specific index\n",
    "print(list)\n",
    "\n",
    "list.pop() #remove last element\n",
    "print(list)\n",
    "print(list[0])\n",
    "print(list[-1])\n",
    "print(list[len(list)-1])\n",
    "#list.sort() --> because of different datatypes cannot be sorted --> only similar datatypes\n",
    "print(list)\n",
    "print()\n",
    "\n",
    "list.reverse()\n",
    "print(list)\n",
    "\n",
    "for element in list:\n",
    "    print(element, end = \" \")\n",
    "\n",
    "print()\n",
    "\n",
    "if \"apple\" in list:\n",
    "    print(\"yes, there is an apple in the list\")\n",
    "\n",
    "newlist = [x for x in range(0,101,2)] #steps of 2\n",
    "print(newlist)\n",
    "\n",
    "newlist = [x**2 for x in range(0,10)]\n",
    "print(newlist)\n",
    "\n",
    "newlist = [2] * 10\n",
    "print(newlist)\n",
    "\n",
    "newlist[1] *= 10\n",
    "print(newlist)\n",
    "\n",
    "#remove all of the non number (NaN) from list\n",
    "newlist = []\n",
    "for element in list:\n",
    "    if (type(element)) == int:\n",
    "        newlist.append(element)\n",
    "print(newlist)\n",
    "\n",
    "matrix = [[1,2,3],[4,5,6],[7,8,9]]\n",
    "for row in matrix:\n",
    "    for element in row:\n",
    "        print(element, end = \" \")\n",
    "    print() #opening new line\n",
    "\n",
    "print()\n",
    "\n",
    "for i in range(0,len(matrix)):\n",
    "    for j in range(0, len(matrix[i])):\n",
    "        print(matrix[i][j], end = \" \")\n",
    "    print()\n",
    "\n"
   ]
  }
 ],
 "metadata": {
  "kernelspec": {
   "display_name": "Python 3",
   "language": "python",
   "name": "python3"
  },
  "language_info": {
   "codemirror_mode": {
    "name": "ipython",
    "version": 3
   },
   "file_extension": ".py",
   "mimetype": "text/x-python",
   "name": "python",
   "nbconvert_exporter": "python",
   "pygments_lexer": "ipython3",
   "version": "3.12.4"
  }
 },
 "nbformat": 4,
 "nbformat_minor": 2
}
