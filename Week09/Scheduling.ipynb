{
 "cells": [
  {
   "cell_type": "markdown",
   "metadata": {},
   "source": [
    "# scheduling - lesson 9\n",
    "- (Date)time module\n",
    "- multithreading\n",
    "- launching programs\n",
    "\n",
    "## (Date)time module\n",
    "see unix epoch converter online:\n",
    "https://www.epochconverter.com/"
   ]
  },
  {
   "cell_type": "code",
   "execution_count": 59,
   "metadata": {},
   "outputs": [
    {
     "name": "stdout",
     "output_type": "stream",
     "text": [
      "1732617971.35769\n",
      "Tue Nov 26 11:46:11 2024\n",
      "Thu Jan  1 01:00:00 1970\n",
      "Wed Nov 27 01:38:10 2024\n",
      "Tue Nov 26 09:46:30 2024\n"
     ]
    }
   ],
   "source": [
    "import time\n",
    "print(time.time())\n",
    "print(time.ctime())\n",
    "print(time.ctime(0))\n",
    "#epoch time is expressed in seconds (big number = number of seconds since Jan 1 1970)\n",
    "\n",
    "print(time.ctime(1732667890))\n",
    "print(time.ctime(1732610790))"
   ]
  },
  {
   "cell_type": "markdown",
   "metadata": {},
   "source": [
    "### Exercise \n",
    "Count number of seconds needed to consume an API (any)\n",
    "Get your own key\n",
    "https://rapidapi.com/apininjas/api/facts-by-api-ninjas/\n"
   ]
  },
  {
   "cell_type": "code",
   "execution_count": 61,
   "metadata": {},
   "outputs": [
    {
     "name": "stdout",
     "output_type": "stream",
     "text": [
      "it took 0.5881185531616211 seconds to run the script and print the following fact:\n",
      " Rubber bands last longer when refrigerated\n"
     ]
    }
   ],
   "source": [
    "import requests\n",
    "import time\n",
    "\n",
    "url = \"https://facts-by-api-ninjas.p.rapidapi.com/v1/facts\"\n",
    "\n",
    "headers = {\n",
    "\t\"x-rapidapi-key\": \"fd6f435c07msh3de62319fcfa275p143e5cjsn4293d86a9f09\",\n",
    "\t\"x-rapidapi-host\": \"facts-by-api-ninjas.p.rapidapi.com\"\n",
    "}\n",
    "\n",
    "start = time.time() #check before request\n",
    "response = requests.get(url, headers=headers)\n",
    "stop = time.time()\n",
    "seconds = stop - start\n",
    "\n",
    "data = response.json()\n",
    "print(\"it took\", seconds, \"seconds to run the script and print the following fact:\\n\", data[0][\"fact\"])\n"
   ]
  },
  {
   "cell_type": "markdown",
   "metadata": {},
   "source": [
    "### Go to bed, sleep for a second?!"
   ]
  },
  {
   "cell_type": "code",
   "execution_count": null,
   "metadata": {},
   "outputs": [],
   "source": [
    "! pip install pygame"
   ]
  },
  {
   "cell_type": "code",
   "execution_count": 62,
   "metadata": {},
   "outputs": [],
   "source": [
    "import time\n",
    "import pygame\n",
    "import winsound\n",
    "\n",
    "for i in range(0, 10):\n",
    "    winsound.Beep(800, 300)\n",
    "    time.sleep(1)\n",
    "\n",
    "pygame.mixer.init()\n",
    "pygame.mixer.music.load(\"rocket.mp3\")\n",
    "pygame.mixer.music.play()\n",
    "while pygame.mixer.music.get_busy() == True:\n",
    "    continue\n"
   ]
  },
  {
   "cell_type": "markdown",
   "metadata": {},
   "source": [
    "### Work with date-formats"
   ]
  },
  {
   "cell_type": "code",
   "execution_count": null,
   "metadata": {},
   "outputs": [
    {
     "name": "stdout",
     "output_type": "stream",
     "text": [
      "2024-11-26 10:27:38.977218\n",
      "2000-05-10 00:00:00\n",
      "2000 5 10 0 0 0\n",
      "1970-01-01 03:46:40\n",
      "2024-11-26 10:27:38.978249\n",
      "2024-11-26 10:27:39\n",
      "10 May 00\n",
      "day 131 of the year 2000\n",
      "28 January 04\n"
     ]
    }
   ],
   "source": [
    "import datetime as dt\n",
    "import time\n",
    "print(dt.datetime.now())\n",
    "\n",
    "date = dt.datetime(2000, 5, 10) #can also add dt.datetime(2000, 5, 10, 0, 0, 0)\n",
    "print(date)\n",
    "print(date.year, date.month, date.day, date.hour, date.minute, date.second)\n",
    "\n",
    "#working with date from a timestamp\n",
    "print(dt.datetime.fromtimestamp(10000))\n",
    "print(dt.datetime.fromtimestamp(time.time()))\n",
    "print(dt.datetime.fromtimestamp(round(time.time(),0)))\n",
    "\n",
    "#from datetime to a string --> strftime()\n",
    "print(date.strftime(\"%d %B %y\"))\n",
    "print(date.strftime(\"day %j of the year %Y\"))\n",
    "\n",
    "date += dt.timedelta(days=1000, seconds=121789, weeks=51)\n",
    "print(date.strftime(\"%d %B %y\"))\n",
    "#timedelta is usually used to calculate difference in time"
   ]
  },
  {
   "cell_type": "markdown",
   "metadata": {},
   "source": [
    "## Multithreading\n",
    "By default Python runs everything as a single-threaded program/process, so it can only execute 1 thing at a time. A multithreaded program can execute multiple things at the same time."
   ]
  },
  {
   "cell_type": "code",
   "execution_count": 39,
   "metadata": {},
   "outputs": [],
   "source": [
    "import time\n",
    "def sleep():\n",
    "    time.sleep(5)\n",
    "    print(\"wake up\")\n",
    "\n",
    "def multiplication(number):\n",
    "    for i in range(1, 11):\n",
    "        print(i, \"*\", number, \"=\", i*number)"
   ]
  },
  {
   "cell_type": "code",
   "execution_count": 40,
   "metadata": {},
   "outputs": [
    {
     "name": "stdout",
     "output_type": "stream",
     "text": [
      "START\n",
      "wake up\n",
      "1 * 5 = 5\n",
      "2 * 5 = 10\n",
      "3 * 5 = 15\n",
      "4 * 5 = 20\n",
      "5 * 5 = 25\n",
      "6 * 5 = 30\n",
      "7 * 5 = 35\n",
      "8 * 5 = 40\n",
      "9 * 5 = 45\n",
      "10 * 5 = 50\n",
      "STOP\n"
     ]
    }
   ],
   "source": [
    "#single threading\n",
    "print(\"START\")\n",
    "sleep()\n",
    "multiplication(5)\n",
    "print(\"STOP\")"
   ]
  },
  {
   "cell_type": "code",
   "execution_count": null,
   "metadata": {},
   "outputs": [
    {
     "name": "stdout",
     "output_type": "stream",
     "text": [
      "1 * 5 = 5\n",
      "2 * 5 = 10\n",
      "3 * 5 = 15\n",
      "4 * 5 = 20\n",
      "5 * 5 = 25\n",
      "6 * 5 = 30\n",
      "7 * 5 = 35\n",
      "8 * 5 = 40\n",
      "9 * 5 = 45\n",
      "10 * 5 = 50\n",
      "START\n",
      "STOP\n"
     ]
    },
    {
     "name": "stdout",
     "output_type": "stream",
     "text": [
      "wake up\n"
     ]
    }
   ],
   "source": [
    "#multithreading\n",
    "import threading\n",
    "thread_sleep = threading.Thread(target=sleep)\n",
    "thread_multi = threading.Thread(target=multiplication(5))\n",
    "\n",
    "print(\"START\")\n",
    "thread_sleep.start()\n",
    "thread_multi.start()\n",
    "print(\"STOP\")"
   ]
  },
  {
   "cell_type": "markdown",
   "metadata": {},
   "source": [
    "### Exercise\n",
    "Write a program that performs the following steps:\n",
    "create 2 functions --> function1() and function2()\n",
    "- function1() --> printing out the number 1->10 with a delay of 0.5s between each number\n",
    "- function2() --> printing out the letters A->J with a delay of 0.5s between each letter\n",
    "- create 2 threads, one for each function --> start simultaneously\n",
    "- wait for both to finish before exiting program"
   ]
  },
  {
   "cell_type": "code",
   "execution_count": 57,
   "metadata": {},
   "outputs": [
    {
     "name": "stdout",
     "output_type": "stream",
     "text": [
      "START\n",
      "1 A 2 B 3 C 4 D 5 E 6 F 7 G 8 H 9 I 10 J STOP\n"
     ]
    }
   ],
   "source": [
    "import time, threading\n",
    "def function1():\n",
    "    for i in range(1,11):\n",
    "        print(i, end= \" \")\n",
    "        time.sleep(0.5)\n",
    "\n",
    "def function2():\n",
    "    for c in \"ABCDEFGHIJ\":\n",
    "        print(c, end=\" \")\n",
    "        time.sleep(0.5) #if you also do 0.5s, concurrency happens\n",
    "\n",
    "thread_f1 = threading.Thread(target=function1)\n",
    "thread_f2 = threading.Thread(target=function2)\n",
    "\n",
    "print(\"START\")\n",
    "thread_f1.start()\n",
    "thread_f2.start()\n",
    "thread_f1.join()\n",
    "thread_f2.join()\n",
    "print(\"STOP\")\n",
    "\n",
    "#strange output? --> effect of multithreading and sleep in combination with print()\n",
    "#can be spaces well, but performance will be worse\n"
   ]
  },
  {
   "cell_type": "markdown",
   "metadata": {},
   "source": [
    "## Launching programs"
   ]
  },
  {
   "cell_type": "code",
   "execution_count": null,
   "metadata": {},
   "outputs": [
    {
     "data": {
      "text/plain": [
       "<Popen: returncode: None args: 'C:\\\\Program Files\\\\Microsoft Office\\\\root\\\\O...>"
      ]
     },
     "execution_count": 64,
     "metadata": {},
     "output_type": "execute_result"
    }
   ],
   "source": [
    "import subprocess\n",
    "subprocess.Popen(\"calc.exe\")\n",
    "subprocess.Popen(r\"C:\\Program Files\\Microsoft Office\\root\\Office16\\WINWORD.exe\")"
   ]
  },
  {
   "cell_type": "code",
   "execution_count": null,
   "metadata": {},
   "outputs": [
    {
     "name": "stdout",
     "output_type": "stream",
     "text": [
      "None\n",
      "Hello\n"
     ]
    }
   ],
   "source": [
    "import subprocess\n",
    "paint = subprocess.Popen(\"mspaint.exe\")\n",
    "print(paint.poll())\n",
    "paint.wait() #holds your code until application is shut down\n",
    "print(\"Hello\")"
   ]
  },
  {
   "cell_type": "markdown",
   "metadata": {},
   "source": [
    "### Launching a file in its default application\n",
    "open -> macOS<br>\n",
    "start -> windows<br>\n",
    "see -> Linux"
   ]
  },
  {
   "cell_type": "code",
   "execution_count": null,
   "metadata": {},
   "outputs": [
    {
     "data": {
      "text/plain": [
       "<Popen: returncode: None args: ['start', 'rocket.mp3']>"
      ]
     },
     "execution_count": 71,
     "metadata": {},
     "output_type": "execute_result"
    }
   ],
   "source": [
    "import subprocess\n",
    "file = open(\"file.txt\",\"w\")\n",
    "file.write(\"Hello world!\")\n",
    "file.close()\n",
    "\n",
    "subprocess.Popen(['start','file.txt'], shell=True)\n",
    "\n",
    "subprocess.Popen(['start', 'https://google.com'], shell = True)\n",
    "subprocess.Popen(['start', 'rocket.mp3'], shell = True)"
   ]
  },
  {
   "cell_type": "code",
   "execution_count": 72,
   "metadata": {},
   "outputs": [
    {
     "data": {
      "text/plain": [
       "True"
      ]
     },
     "execution_count": 72,
     "metadata": {},
     "output_type": "execute_result"
    }
   ],
   "source": [
    "#webbrowsers\n",
    "import webbrowser\n",
    "webbrowser.open('https://google.com')"
   ]
  }
 ],
 "metadata": {
  "kernelspec": {
   "display_name": "Python 3",
   "language": "python",
   "name": "python3"
  },
  "language_info": {
   "codemirror_mode": {
    "name": "ipython",
    "version": 3
   },
   "file_extension": ".py",
   "mimetype": "text/x-python",
   "name": "python",
   "nbconvert_exporter": "python",
   "pygments_lexer": "ipython3",
   "version": "3.12.4"
  }
 },
 "nbformat": 4,
 "nbformat_minor": 2
}
