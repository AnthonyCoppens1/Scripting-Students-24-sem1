{
 "cells": [
  {
   "cell_type": "markdown",
   "metadata": {},
   "source": [
    "# Images - week 10\n",
    "## recap for downloading images\n",
    "-> https://api.chucknorris.io/ --> https://api.chucknorris.io/jokes/random\n",
    "-> download all images from https://en.wikipedia.org/wiki/Chuck_Norris"
   ]
  },
  {
   "cell_type": "code",
   "execution_count": 3,
   "metadata": {},
   "outputs": [
    {
     "name": "stdout",
     "output_type": "stream",
     "text": [
      "Chuck Norris can outrun his legs and feet\n",
      "downloaded 220px-Chuck_Norris_May_2015.jpg\n",
      "downloaded 150px-Chuck_Norris_%281976%29.jpg\n",
      "downloaded 220px-Chuck_Norris%2C_The_Delta_Force_1986.jpg\n",
      "downloaded 220px-050624-N-5248R-002.jpg\n",
      "downloaded 220px-Chuck_Norris_in_Iraq_in_2006.jpg\n",
      "downloaded 170px-Chuck_Norris_Hollywood_Star.jpg\n",
      "downloaded 170px-Chuck_Norris.jpg\n",
      "downloaded 220px-George_W._Bush_and_Chuck_Norris.jpg\n",
      "downloaded 150px-ChuckNorris-18FEB2016.jpg\n"
     ]
    }
   ],
   "source": [
    "import requests\n",
    "from bs4 import BeautifulSoup\n",
    "\n",
    "url = \"https://api.chucknorris.io/jokes/random\"\n",
    "response = requests.get(url)\n",
    "print(response.json()[\"value\"])\n",
    "\n",
    "url = \"https://en.wikipedia.org/wiki/Chuck_Norris\"\n",
    "response = requests.get(url)\n",
    "soup = BeautifulSoup(response.text)\n",
    "img_tags = soup.find_all(\"img\")\n",
    "\n",
    "for img in img_tags:\n",
    "    if img[\"src\"].endswith(\".jpg\"):\n",
    "        parts = img[\"src\"].split(\"/\")\n",
    "        with open(\"ChuckNorris/\" + parts[-1], \"wb\") as file:\n",
    "            response = requests.get(\"https:\" + img[\"src\"])\n",
    "            file.write(response.content)\n",
    "            print(\"downloaded\", parts[-1])\n"
   ]
  },
  {
   "cell_type": "markdown",
   "metadata": {},
   "source": [
    "## computer images\n",
    "install the Pillow package"
   ]
  },
  {
   "cell_type": "code",
   "execution_count": null,
   "metadata": {},
   "outputs": [],
   "source": [
    "! pip install Pillow"
   ]
  },
  {
   "cell_type": "code",
   "execution_count": 8,
   "metadata": {},
   "outputs": [
    {
     "name": "stdout",
     "output_type": "stream",
     "text": [
      "(0, 0, 255, 255)\n",
      "(255, 192, 203, 255)\n",
      "(210, 105, 30, 255)\n",
      "(102, 51, 153, 255)\n"
     ]
    }
   ],
   "source": [
    "from PIL import ImageColor\n",
    "print(ImageColor.getcolor('blue', 'RGBA'))\n",
    "print(ImageColor.getcolor('pink', 'RGBA'))\n",
    "print(ImageColor.getcolor('chocolate', 'RGBA'))\n",
    "print(ImageColor.getcolor('rebeccapurple', 'RGBA'))"
   ]
  },
  {
   "cell_type": "markdown",
   "metadata": {},
   "source": [
    "Download the file colours.txt from Modules\n",
    "Create a csv file that show all the colours in the following format:\n",
    "- Color, R, G, B, A\n",
    "- AliceBlue, 240, 248, 255, 255\n",
    "- AntiqueWhite, 250, 235, 215, 255\n",
    "- ..."
   ]
  },
  {
   "cell_type": "code",
   "execution_count": null,
   "metadata": {},
   "outputs": [],
   "source": [
    "from PIL import ImageColor\n",
    "\n",
    "csvfile = open(\"colours.csv\", \"w\")\n",
    "csvfile.write(\"Color, R, G, B, A\\n\")\n",
    "\n",
    "with open(\"colours.txt\", \"r\") as file:\n",
    "    for line in file.readlines():\n",
    "        rgba = ImageColor.getcolor(line.strip(), 'RGBA') #tuple of format (255, 0, 255, 248) with indexes\n",
    "        csvfile.write(f\"{line.strip()}, {str(rgba[0])}, {str(rgba[1])}, {str(rgba[2])}, {str(rgba[3])}\\n\")\n",
    "\n",
    "csvfile.close()"
   ]
  },
  {
   "cell_type": "markdown",
   "metadata": {},
   "source": [
    "## Manipulating images\n",
    "<img src=\"bird.jpg\"> \n",
    "on canvas, download image\n",
    "\n",
    "### Image properties"
   ]
  },
  {
   "cell_type": "code",
   "execution_count": 26,
   "metadata": {},
   "outputs": [
    {
     "name": "stdout",
     "output_type": "stream",
     "text": [
      "<PIL.JpegImagePlugin.JpegImageFile image mode=RGB size=640x424 at 0x2BB89AA6A20>\n",
      "424 640\n",
      "(640, 424)\n",
      "640\n",
      "C:\\Users\\antho\\OneDrive\\Documenten\\Anthony-TM\\Scripting\\Scripting-Students-24-sem1\\Week10\\bird.jpg\n",
      "JPEG\n",
      "JPEG (ISO 10918)\n",
      "Portable network graphics\n"
     ]
    }
   ],
   "source": [
    "from PIL import Image\n",
    "\n",
    "img = Image.open(\"bird.jpg\")\n",
    "print(img) #all the info\n",
    "print(img.height, img.width)\n",
    "print(img.size) #careful, width followed by height\n",
    "width, height = img.size #changing both values\n",
    "print(width)\n",
    "print(img.filename)\n",
    "print(img.format)\n",
    "img.show()\n",
    "\n",
    "#change the format\n",
    "print(img.format_description)\n",
    "img.save('bird.png')\n",
    "pngimg = Image.open('bird.png')\n",
    "print(pngimg.format_description)\n",
    "pngimg.show()\n"
   ]
  },
  {
   "cell_type": "markdown",
   "metadata": {},
   "source": [
    "### crop images"
   ]
  },
  {
   "cell_type": "code",
   "execution_count": 29,
   "metadata": {},
   "outputs": [],
   "source": [
    "from PIL import Image\n",
    "#important: SLIDE OF CROPPING! img.crop(..., ..., ..., ...)\n",
    "img = Image.open('bird.jpg')\n",
    "img = img.crop((270, 150, 400, 370))\n",
    "img.save(\"cropped_bird.jpg\")\n",
    "img.show()"
   ]
  },
  {
   "cell_type": "markdown",
   "metadata": {},
   "source": [
    "### creating images"
   ]
  },
  {
   "cell_type": "code",
   "execution_count": 32,
   "metadata": {},
   "outputs": [],
   "source": [
    "from PIL import Image\n",
    "img = Image.new('RGBA', (100, 200), 'purple')\n",
    "img.save('purple.png')\n",
    "img.show()\n",
    "\n",
    "img = Image.new('RGBA', (20,20)) #transparant --> no colour\n",
    "img.save('transparant.png')\n",
    "img.show()\n",
    "\n",
    "img = Image.new('RGBA', (200, 200), (0, 255, 0, 100))\n",
    "img.save('green.png')\n",
    "img.show()"
   ]
  },
  {
   "cell_type": "markdown",
   "metadata": {},
   "source": [
    "### copying and pasting images"
   ]
  },
  {
   "cell_type": "code",
   "execution_count": 33,
   "metadata": {},
   "outputs": [],
   "source": [
    "from PIL import Image\n",
    "img = Image.open('bird.jpg')\n",
    "crop = Image.open('cropped_bird.jpg')\n",
    "copying = img.copy()\n",
    "copying.paste(crop, (0,0))\n",
    "copying.paste(crop, (510, 224))\n",
    "copying.paste(crop, (510, 0))\n",
    "copying.save('bird2.jpg')\n",
    "copying.show()"
   ]
  },
  {
   "cell_type": "code",
   "execution_count": 36,
   "metadata": {},
   "outputs": [],
   "source": [
    "#chessboard of the cropped bird\n",
    "from PIL import Image\n",
    "img = Image.new('RGBA', (260, 440), 'navy')\n",
    "cropped = Image.open('cropped_bird.jpg')\n",
    "copy = img.copy()\n",
    "copy.paste(cropped, (0,0))\n",
    "copy.paste(cropped, (130, 220))\n",
    "\n",
    "img = Image.new('RGBA', (cropped.width*10, cropped.height*10))\n",
    "for row in range(0, 5):\n",
    "    for col in range(0, 5):\n",
    "        img.paste(copy, (row * copy.width, col * copy.height ))\n",
    "\n",
    "img.show()"
   ]
  },
  {
   "cell_type": "markdown",
   "metadata": {},
   "source": [
    "### Transforming images"
   ]
  },
  {
   "cell_type": "code",
   "execution_count": 43,
   "metadata": {},
   "outputs": [],
   "source": [
    "from PIL import Image\n",
    "img = Image.open('bird.jpg')\n",
    "img.rotate(90).show() #90 to the left\n",
    "img.rotate(180).show() #180 to the left\n",
    "img.rotate(-90).show() #90 to the right\n",
    "\n",
    "img.transpose(Image.FLIP_LEFT_RIGHT).show()\n",
    "img.transpose(Image.FLIP_TOP_BOTTOM).show()\n",
    "\n",
    "halfsize = img.resize((int(width/2), int(height/2)))\n",
    "halfsize.save('halfsize.jpg')\n",
    "halfsize.show()"
   ]
  },
  {
   "cell_type": "markdown",
   "metadata": {},
   "source": [
    "## loop over images pixel by pixel\n",
    "playing with colours"
   ]
  },
  {
   "cell_type": "code",
   "execution_count": 45,
   "metadata": {},
   "outputs": [],
   "source": [
    "from PIL import Image\n",
    "img = Image.open('cropped_bird.jpg')\n",
    "for x in range(0, img.width):\n",
    "    for y in range(0, img.height):\n",
    "        r,g,b = img.getpixel((x,y))\n",
    "        invert = (255-r, 255-g, 255-b)\n",
    "        img.putpixel((x,y), invert)\n",
    "\n",
    "img.show()\n",
    "img.save('inverted.png')"
   ]
  },
  {
   "cell_type": "code",
   "execution_count": 48,
   "metadata": {},
   "outputs": [],
   "source": [
    "#recolouring the little birdie\n",
    "from PIL import Image\n",
    "img = Image.open('cropped_bird.jpg')\n",
    "red_img = Image.new('RGBA', img.size, \"white\")\n",
    "noblue_img = Image.new('RGBA', img.size, \"white\")\n",
    "\n",
    "for x in range(0, img.width):\n",
    "    for y in range(0, img.height):\n",
    "        pixel = img.getpixel((x,y)) #getpixel((x,y)) provides a list with 3 values (r,g,b)\n",
    "        red_img.putpixel((x,y), (255, pixel[1], pixel[2]))\n",
    "        noblue_img.putpixel((x,y), (pixel[0], pixel[1], 0))\n",
    "\n",
    "red_img.show()\n",
    "noblue_img.show()\n",
    "red_img.save('bird_red.gif')\n",
    "noblue_img.save('bird_noblue.gif')"
   ]
  },
  {
   "cell_type": "markdown",
   "metadata": {},
   "source": [
    "### convert and invert images"
   ]
  },
  {
   "cell_type": "code",
   "execution_count": 53,
   "metadata": {},
   "outputs": [],
   "source": [
    "from PIL import Image\n",
    "img = Image.open('bird.jpg')\n",
    "img = img.convert(\"L\")\n",
    "img.show()\n",
    "\n",
    "#another way of converting\n",
    "from PIL import Image, ImageChops\n",
    "img = Image.open('cropped_bird.jpg')\n",
    "img = ImageChops.invert(img)\n",
    "img.show()\n"
   ]
  },
  {
   "cell_type": "markdown",
   "metadata": {},
   "source": [
    "## Drawing on images\n",
    "figures and text"
   ]
  },
  {
   "cell_type": "code",
   "execution_count": 14,
   "metadata": {},
   "outputs": [],
   "source": [
    "from PIL import Image, ImageDraw\n",
    "\n",
    "canvas = Image.new('RGBA', (200, 200), 'white')\n",
    "draw = ImageDraw.Draw(canvas)\n",
    "\n",
    "draw.line([(0,0), (200, 200), (75, 150)], fill = 'black')\n",
    "draw.rectangle((20, 30, 60, 60), fill = 'blue')\n",
    "draw.ellipse((120, 30, 160, 60), fill='red')\n",
    "draw.polygon(((57, 87), (79, 62), (94, 85), (120, 90), (103, 113)), fill='brown')\n",
    "for i in range(100, 200, 10):\n",
    "    draw.line([(i, 0), (200, i-100)], fill='yellow')\n",
    "\n",
    "draw.text((100, 150), 'Hello', fill='gray')\n",
    "canvas.save('drawing.png')\n",
    "canvas.show()"
   ]
  }
 ],
 "metadata": {
  "kernelspec": {
   "display_name": "Python 3",
   "language": "python",
   "name": "python3"
  },
  "language_info": {
   "codemirror_mode": {
    "name": "ipython",
    "version": 3
   },
   "file_extension": ".py",
   "mimetype": "text/x-python",
   "name": "python",
   "nbconvert_exporter": "python",
   "pygments_lexer": "ipython3",
   "version": "3.12.4"
  }
 },
 "nbformat": 4,
 "nbformat_minor": 2
}
